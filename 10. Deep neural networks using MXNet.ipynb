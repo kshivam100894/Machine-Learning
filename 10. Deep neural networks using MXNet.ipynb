{
 "cells": [
  {
   "cell_type": "markdown",
   "metadata": {},
   "source": [
    "# Deep Neural Networks using MXNet:"
   ]
  },
  {
   "cell_type": "markdown",
   "metadata": {},
   "source": [
    "\n",
    "In multiclass logistic regression we mapped our inputs to the outputs using a single linear transformation.\n",
    "\n",
    "If the labels are related to the input data by an approximately function, then this approach might be adequate. But <I>linearity is a strong assumption</I>. Linearity means that given an output of interest, for each input, increasing the value of the input should either drive the value of the output up or drive it down, irrespective of the value of the other inputs.\n",
    "\n",
    "Imagine the case of classifying cats and dogs based on black and white images. That's like saying that for each pixel, increasing its value either increases the probability that it depicts a dog or decreases it. That's not reasonable. After all, there are both black dogs and black cats, and both white dogs and white cats.\n",
    "\n",
    "In order to figure out what is depicted in the image generally requires allowing more complex relationships between our inputs and outputs, considering the possibility that our pattern might be characterized by interactions among the many features. In such cases the linear model, will have <I>low accuracy</I>. We can model a more general class of functions by incorporating one or more <I>hidden layers</I>. The most easiest way to do this is to stack a bunch of layers of neurons on top of each other. Each layer feeds into the layer above it unless we generate an output. This architecture is called \"multilayer perceptron\". With an MLP, we are going to stack a bunch of layers on top of each other.\n",
    "$$\\begin{eqnarray}\n",
    "         h_1 &=& \\phi(W_1(x) + b_1)\\\\\n",
    "         h_2 &=& \\phi(W_2(h_1) + b_2)\\\\\n",
    "         \\dots \\\\ \n",
    "         h_n &=& \\phi(W_nh_{n-1} + b_n)\n",
    "  \\end{eqnarray}\n",
    "$$\n",
    "\n",
    "Note that each layer requires its own set of parameters. For each hidden layer, we calculate its value by first applying a linear function to the activations of the layers below, and then applying an element-wise nonlinear activation function. Here, I have denoted the activation functions for the hidden layers as $\\phi$. Finally, given the topmost hidden layer, we will generate an output. Because, we are still focussing on multiclass classification, we will stick with the softmax activation in the output layer.\n",
    "$$\n",
    "     \\bar y = softmax(W_yh_n + b_y)\n",
    "$$\n",
    "\n",
    "Multilayer perceptrons can account for complex interactions in the inputs because the hidden neurons depend on the values of each of the inputs. It's even widely known that multilayer perceptrons are universal approximators. That means that even for a single-hidden-layer neural network, with enough nodes, and the right set of weights, it could model any function at all! Actually learning those functions is the hard part. And it turns out that we can approximate functions much more compactly if we use deeper (vs wider) neural networks. In this example, we will implement a multilayer perceptron with two hidden layers and one output layer."
   ]
  },
  {
   "cell_type": "code",
   "execution_count": 20,
   "metadata": {},
   "outputs": [],
   "source": [
    "#import the relevant libraries\n",
    "from __future__ import print_function\n",
    "import mxnet as mx\n",
    "import numpy as np\n",
    "from mxnet import nd, autograd, gluon"
   ]
  },
  {
   "cell_type": "markdown",
   "metadata": {},
   "source": [
    "### Set contexts:"
   ]
  },
  {
   "cell_type": "code",
   "execution_count": 21,
   "metadata": {},
   "outputs": [],
   "source": [
    "ctx = mx.cpu()\n",
    "data_ctx = ctx\n",
    "model_ctx = ctx"
   ]
  },
  {
   "cell_type": "markdown",
   "metadata": {},
   "source": [
    "### Load MNIST data:"
   ]
  },
  {
   "cell_type": "code",
   "execution_count": 22,
   "metadata": {},
   "outputs": [],
   "source": [
    "num_inputs = 784\n",
    "num_outputs = 10\n",
    "batch_size = 64\n",
    "num_examples = 60000\n",
    "def transform(data, label):\n",
    "    return data.astype(np.float32)/255, label.astype(np.float32)\n",
    "train_data = gluon.data.DataLoader(mx.gluon.data.vision.MNIST(train = 1, transform = transform), batch_size, shuffle = 1)\n",
    "test_data = gluon.data.DataLoader(mx.gluon.data.vision.MNIST(train = 0, transform = transform), batch_size, shuffle = 0)"
   ]
  },
  {
   "cell_type": "markdown",
   "metadata": {},
   "source": [
    "### Allocate parameters:"
   ]
  },
  {
   "cell_type": "code",
   "execution_count": 23,
   "metadata": {},
   "outputs": [],
   "source": [
    "# Set some constants so it's easy to modify the network later\n",
    "num_hidden = 256\n",
    "weight_scale = .01\n",
    "\n",
    "#Allocate the parameters for the first hidden layer\n",
    "W1 = nd.random_normal(shape = (num_inputs, num_hidden), scale = weight_scale, ctx = model_ctx)\n",
    "b1 = nd.random_normal(shape = num_hidden, scale = weight_scale, ctx = model_ctx)\n",
    "\n",
    "# Allocate parameters for the second hidden layer\n",
    "W2 = nd.random_normal(shape = (num_hidden, num_hidden), scale = weight_scale, ctx = model_ctx)\n",
    "b2 = nd.random_normal(shape = num_hidden, scale = weight_scale, ctx = model_ctx)\n",
    "\n",
    "# Allocate parameters for the output layer\n",
    "W3 = nd.random_normal(shape = (num_hidden, num_outputs), scale = weight_scale, ctx = model_ctx)\n",
    "b3 = nd.random_normal(shape = num_outputs, scale = weight_scale, ctx = model_ctx)\n",
    "\n",
    "params = [W1, b1, W2, b2, W3, b3]"
   ]
  },
  {
   "cell_type": "markdown",
   "metadata": {},
   "source": [
    "Allocating space for each parameter's gradient."
   ]
  },
  {
   "cell_type": "code",
   "execution_count": 24,
   "metadata": {},
   "outputs": [],
   "source": [
    "for param in params:\n",
    "    param.attach_grad()"
   ]
  },
  {
   "cell_type": "markdown",
   "metadata": {},
   "source": [
    "### Activation Functions:\n",
    "\n",
    "If we compose multi-layer network but use only linear operations then our entire network will still be a linear function.\n",
    "That's because $\\bar y = X \\cdot W_1 \\cdot W_2 \\cdot W_3 = X \\cdot W_4$ for $ W_4 = W_1 \\cdot W_2 \\cdot W_3$.\n",
    "To give our model the capacity to capture non-linear functions, we will need to interleave our linear operations with\n",
    "activation functions.<br>\n",
    "In this case we'll use <b>the rectified linear unit (ReLU)</b>."
   ]
  },
  {
   "cell_type": "code",
   "execution_count": 25,
   "metadata": {},
   "outputs": [],
   "source": [
    "def relu(X):\n",
    "    return nd.maximum(X, nd.zeros_like(X))"
   ]
  },
  {
   "cell_type": "markdown",
   "metadata": {},
   "source": [
    "### Softmax Output:\n",
    "\n",
    "As with multiclass logistic regression, we will want the output to be a valid probability distribution.\n",
    "We'll use the <b>softmax activation</b> function on our output to make sure that our outputs sum to 1 and are non-negative."
   ]
  },
  {
   "cell_type": "code",
   "execution_count": 26,
   "metadata": {},
   "outputs": [],
   "source": [
    " def softmax(y_linear):\n",
    "    exp = nd.exp(y_linear - nd.max(y_linear))\n",
    "    partition = nd.nansum(exp, axis = 0, exclude = 1).reshape((-1,1))\n",
    "    return exp / partition"
   ]
  },
  {
   "cell_type": "code",
   "execution_count": 27,
   "metadata": {},
   "outputs": [],
   "source": [
    "#Running the output through cross-entropy loss function\n",
    "def cross_entropy(yhat, y):\n",
    "    return -nd.nansum(y*nd.log(yhat), axis = 0, exclude = 1)"
   ]
  },
  {
   "cell_type": "markdown",
   "metadata": {},
   "source": [
    "### The softmax cross-entropy loss function:\n",
    "\n",
    "The softmax function calculates $\\bar y_j = \\frac {e^{z_j}}{\\sum_{i=1}^ne^{z_i}}$, where $\\bar y_j$ is the j-th element of the input `yhat` variable in `cross-entropy` function and $z_j$ is the j-th element of the input `y_linear` variable in function `softmax`.\n",
    "\n",
    "If some $z_i$ is very large (i.e. very positive), then $e^{z_i}$ might be larger than the largest number we can have for certain types of `float` (i.e. overflow). This would make the denominator (and/or numerator) `infinite` and we get zero, or `infinite` or `nan` for $\\bar y_j$. In any case we won't get a well defined return value for `cross_entropy`. This is the reason we subtract $max(z_i)$ from all $z_i$ first in `softmax` function. We can verify that this shifting in $z_i$ will not change the return value of `softmax`.\n",
    "\n",
    "After the above subtraction/multiplication step, it is possible that $z_j$ is very negative. Thus, $e^{z_j}$ will be close to zero and might be rounded to zero due to finite precision (i.e. underflow), which makes $\\bar y_j$ zero and we get `-infinite` for $log(\\bar y_j)$. A few steps down the road in backpropagation it starts to get horrific not-a-number (`nan`) results printed to screen. \n",
    "\n",
    "Our salvation is that even though we are computing these exponential functions, we ultimately plan to take their log in the cross_entropy functions. It turns out that by combining the `softmax` and `cross_entropy` equations we can elude the numerical stability issues that otherwise might plague us during backpropagation. As shown in the equation below, we avoided calculating $e^{z_j}$ but directly used $z_j$ due to $log(exp(\\cdot))$.\n",
    "$$\n",
    "    log(\\bar y_j) = log \\left(\n",
    "                               \\frac {e^{z_j}} {\\sum_{i=1}^n e^{z_i}}\n",
    "                         \\right)\n",
    "                  = log(e^{z_j}) - log \\left(\\sum_{i=1}^n e^{z_i}\\right)\n",
    "                  = z_j - log \\left(\\sum_{i=1}^n e^{z_i}\\right)\n",
    "$$\n",
    "              \n",
    "Now instead of passing softmax probabilities into our new loss function, we will just pass our `yhat_linear` and compute the softmax and its log all at once inside the softmax_cross_entropy loss function."
   ]
  },
  {
   "cell_type": "code",
   "execution_count": 28,
   "metadata": {},
   "outputs": [],
   "source": [
    "def softmax_cross_entropy(yhat_linear, y):\n",
    "    return -nd.nansum(y * nd.log_softmax(yhat_linear), axis = 0, exclude = True)"
   ]
  },
  {
   "cell_type": "markdown",
   "metadata": {},
   "source": [
    "### Defining the model:"
   ]
  },
  {
   "cell_type": "code",
   "execution_count": 29,
   "metadata": {},
   "outputs": [],
   "source": [
    "def net(X):\n",
    "    # Compute the first hidden layer\n",
    "    h1_linear = nd.dot(X, W1) + b1\n",
    "    h1 = relu(h1_linear)\n",
    "    \n",
    "    # Compute the second hidden layer\n",
    "    h2_linear = nd.dot(h1, W2) + b2\n",
    "    h2 = relu(h2_linear)\n",
    "    \n",
    "    # Compute the output layer.\n",
    "    # We will omit the softmax function here\n",
    "    # because it will be applied in the softmax_cross_entropy loss\n",
    "    yhat_linear = nd.dot(h2, W3) + b3\n",
    "    return yhat_linear"
   ]
  },
  {
   "cell_type": "markdown",
   "metadata": {},
   "source": [
    "### Optimizer:"
   ]
  },
  {
   "cell_type": "code",
   "execution_count": 30,
   "metadata": {},
   "outputs": [],
   "source": [
    "def SGD(params, lr):\n",
    "    for param in params:\n",
    "        param[:] = param - lr*param.grad"
   ]
  },
  {
   "cell_type": "markdown",
   "metadata": {},
   "source": [
    "### Evaluation Metric:"
   ]
  },
  {
   "cell_type": "code",
   "execution_count": 31,
   "metadata": {},
   "outputs": [],
   "source": [
    "def evaluate_accuracy(data_iterator, net):\n",
    "    numerator = 0.\n",
    "    denominator = 0.\n",
    "    for i, (data, label) in enumerate(data_iterator):\n",
    "        data = data.as_in_context(model_ctx).reshape((-1, 784))\n",
    "        label = label.as_in_context(model_ctx)\n",
    "        output = net(data)\n",
    "        predictions = nd.argmax(output, axis = 1)\n",
    "        numerator += nd.sum(predictions == label)\n",
    "        denominator += data.shape[0]\n",
    "    return (numerator / denominator).asscalar()"
   ]
  },
  {
   "cell_type": "markdown",
   "metadata": {},
   "source": [
    "### Execute the training loop:"
   ]
  },
  {
   "cell_type": "code",
   "execution_count": 32,
   "metadata": {},
   "outputs": [
    {
     "name": "stdout",
     "output_type": "stream",
     "text": [
      "Epoch: 0. Loss: 1.2316596712430319, Train_acc: 0.87943333, Test_acc: 0.8821\n",
      "Epoch: 1. Loss: 0.33631670532226565, Train_acc: 0.9204, Test_acc: 0.9201\n",
      "Epoch: 2. Loss: 0.22615769240061442, Train_acc: 0.9460667, Test_acc: 0.9448\n",
      "Epoch: 3. Loss: 0.16544468241532645, Train_acc: 0.9619833, Test_acc: 0.9581\n",
      "Epoch: 4. Loss: 0.12941680086652438, Train_acc: 0.9691833, Test_acc: 0.965\n",
      "Epoch: 5. Loss: 0.10541769832670689, Train_acc: 0.9738333, Test_acc: 0.967\n",
      "Epoch: 6. Loss: 0.0885169897776097, Train_acc: 0.9789, Test_acc: 0.9705\n",
      "Epoch: 7. Loss: 0.07580567805568378, Train_acc: 0.983, Test_acc: 0.9729\n",
      "Epoch: 8. Loss: 0.06475055932551622, Train_acc: 0.98536664, Test_acc: 0.9739\n",
      "Epoch: 9. Loss: 0.057021041063219306, Train_acc: 0.9866167, Test_acc: 0.9736\n"
     ]
    }
   ],
   "source": [
    "epochs = 10\n",
    "learning_rate = .001\n",
    "smoothing_constant = .01\n",
    "\n",
    "for e in range(epochs):\n",
    "    cumulative_loss = 0\n",
    "    for i, (data, label) in enumerate(train_data):\n",
    "        data = data.as_in_context(model_ctx).reshape((-1, 784))\n",
    "        label = label.as_in_context(model_ctx)\n",
    "        label_one_hot = nd.one_hot(label, 10)\n",
    "        with autograd.record():\n",
    "            output = net(data)\n",
    "            loss = softmax_cross_entropy(output, label_one_hot)\n",
    "        loss.backward()\n",
    "        SGD(params, learning_rate)\n",
    "        cumulative_loss += nd.sum(loss).asscalar()\n",
    "    \n",
    "    test_accuracy = evaluate_accuracy(test_data, net)\n",
    "    train_accuracy = evaluate_accuracy(train_data, net)\n",
    "    print(\"Epoch: %s. Loss: %s, Train_acc: %s, Test_acc: %s\" %\n",
    "         (e, cumulative_loss/num_examples, train_accuracy, test_accuracy))"
   ]
  },
  {
   "cell_type": "markdown",
   "metadata": {},
   "source": [
    "### Using the model for prediction:"
   ]
  },
  {
   "cell_type": "code",
   "execution_count": 33,
   "metadata": {},
   "outputs": [
    {
     "data": {
      "image/png": "[encoded data removed]",
      "text/plain": [
       "<Figure size 432x288 with 1 Axes>"
      ]
     },
     "metadata": {
      "needs_background": "light"
     },
     "output_type": "display_data"
    },
    {
     "name": "stdout",
     "output_type": "stream",
     "text": [
      "model predictions are: \n",
      "[3. 8. 3. 5. 3. 5. 8. 5. 2. 6.]\n",
      "<NDArray 10 @cpu(0)>\n",
      "true labels: \n",
      "[3. 8. 3. 5. 3. 5. 2. 5. 2. 6.]\n",
      "<NDArray 10 @cpu(0)>\n"
     ]
    }
   ],
   "source": [
    "%matplotlib inline\n",
    "import matplotlib.pyplot as plt\n",
    "\n",
    "#Defining the function to do prediction\n",
    "def model_predict(net, data):\n",
    "    output = net(data)\n",
    "    return nd.argmax(output, axis = 1)\n",
    "\n",
    "samples = 10\n",
    "\n",
    "mnist_test = mx.gluon.data.vision.MNIST(train=0, transform=transform)\n",
    "\n",
    "#let's sample 10 random data points from the test set\n",
    "sample_data = mx.gluon.data.DataLoader(mnist_test, samples, shuffle=1)\n",
    "for i, (data, label) in enumerate(sample_data):\n",
    "    data = data.as_in_context(model_ctx)\n",
    "    im = nd.transpose(data, (1,0,2,3))\n",
    "    im = nd.reshape(im, (28, 10*28, 1))\n",
    "    imtiles = nd.tile(im, (1,1,3))\n",
    "    \n",
    "    plt.imshow(imtiles.asnumpy())\n",
    "    plt.show()\n",
    "    pred = model_predict(net, data.reshape((-1, 784)))\n",
    "    print('model predictions are:', pred)\n",
    "    print('true labels:', label)\n",
    "    break"
   ]
  },
  {
   "cell_type": "markdown",
   "metadata": {},
   "source": [
    "### Conclusion:\n",
    "\n",
    "With just two hidden layers containing 256 hidden nodes, respectively, we can achieve over 95% accuracy on this task."
   ]
  }
 ],
 "metadata": {
  "kernelspec": {
   "display_name": "Python 3",
   "language": "python",
   "name": "python3"
  },
  "language_info": {
   "codemirror_mode": {
    "name": "ipython",
    "version": 3
   },
   "file_extension": ".py",
   "mimetype": "text/x-python",
   "name": "python",
   "nbconvert_exporter": "python",
   "pygments_lexer": "ipython3",
   "version": "3.7.5"
  }
 },
 "nbformat": 4,
 "nbformat_minor": 4
}

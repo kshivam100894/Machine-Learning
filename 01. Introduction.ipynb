{
 "cells": [
  {
   "cell_type": "markdown",
   "metadata": {},
   "source": [
    "# Introduction:"
   ]
  },
  {
   "cell_type": "markdown",
   "metadata": {},
   "source": [
    "The purpose of this repository is to provide an overview of machine learning and statistical techniques for learners trying to get a familiarisation with predictive modelling. The key notion is that flexible, automatic approaches are used to detect patterns within the data, with a primary focus on making predictions on future data.\n",
    "\n",
    "If one explores the number of techniques available in ML without any context, one can easily be overwhelmed by the sheer number of approaches as well as there variations and tweaks. However, if we start from the basic and gradually go on to explore the underlying structure of the more advanced algorithms, we'll be able to realise the similarity in the various approaches. We'll learn that the more advanced algorithms like Artificial Neural networks, are an extension of the basic algorithms like Linear Regression. The goal of this tutorial is to familiarise the reader with the underlying functionality of certain ML techniques. We'll start with the basic algorithm of Linear Regression and gradually work our way towards advanced techniques of Convolutional Neural Network. We'll be implementing various algorithms on real time datasets from scratch as well as using the latest libraries that provide ease of functionality. We'll be using the famous library of numpy. Besides this, we'll be using MXNet utility library, which is a beautiful library to implement algorithms from scratch without having the pain of going through the tedious mathematical derivations. We'll also be using keras to implement the models so that we can realise the ease of functionality that this library offers.\n",
    "\n",
    "As for prerequisite knowledge, I will assume basic familiarity with linear algebra concepts like scalars, vectors, matrices and dot products. Also, it would be useful to have an understanding of mathematical operations like dot product and derivatives. Regarding programming, some knowledge of python would be helpful to follow through the examples. Note that I won't be doing much explaining of the code, as our goal will be to get an understanding of what goes under the hood in machine learning algorithms. Armed with introductory knowledge, if there are parts of python code that are unclear, there are many resources to investigate and discover the details on one's own, which results in more learning anyway."
   ]
  }
 ],
 "metadata": {
  "kernelspec": {
   "display_name": "Python 3",
   "language": "python",
   "name": "python3"
  },
  "language_info": {
   "codemirror_mode": {
    "name": "ipython",
    "version": 3
   },
   "file_extension": ".py",
   "mimetype": "text/x-python",
   "name": "python",
   "nbconvert_exporter": "python",
   "pygments_lexer": "ipython3",
   "version": "3.7.5"
  }
 },
 "nbformat": 4,
 "nbformat_minor": 4
}

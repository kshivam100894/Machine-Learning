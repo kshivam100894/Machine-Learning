{
 "cells": [
  {
   "cell_type": "markdown",
   "metadata": {},
   "source": [
    "# MNIST image recognition (Deep Neural Networks) using keras:"
   ]
  },
  {
   "cell_type": "markdown",
   "metadata": {},
   "source": [
    "The MNIST dataset is a multiclass dataset which consists of 10 classes containing numbers from 0 to 9. The main difference between the previous datasets and the MNIST dataset that we are going to use is the method in which the data is inputted to the neural .\n",
    "For the MNIST dataset a single data point comes in the form of an image. A single image in the MNIST dataset consists of 28\\*28 pixels. This implies that a single image would consist of 786 pixels in total. Thus the neural network should contain 786 inputs. This makes our dataset more complex than any of the datasets that we have worked with till now. \n",
    "\n",
    "In this section, we will mainly focus on optimizing the neural network. We will address mainly two problems: underfitting and overfitting. "
   ]
  },
  {
   "cell_type": "markdown",
   "metadata": {},
   "source": [
    "Large datasets can be split into a training dataset and a test dataset. The training dataset contains each input corresponding to some answer. The neural network trains over this data and updates the weights and biases. Initially, we start with some random model which runs on the training dataset and produces some results. Clearly in the first go the results won't be accurate. Based on the  result of the comparison we minimise the error, the cross-entropy value by updating the parameters of the network in the direction opposite to the gradient. By minimizing the error we can classify more and more data correctly.\n",
    "\n",
    "Now, once the neural network model is trained properly, what would happen if we feed an image to the network from the test set that the model hasn't seen before. We use the training dataset to train the model unless the error is completely minimised. That way the netwrok will be able to classify newly inputted data better. The ability to correctly classify newly inputted data which don't have a label is known as Generalization.\n",
    "\n",
    "Now alongwith minimising the training error we also want the test error to be low. The problem with a training classifier is that they tend to memorize the training set and they do it considerably well. So instead of looking at patterns among the data the network will memorize the labels. By doing so the network will fail to generalise to new examples. Therefore, while training the network we then sample the images from test set and we expect that the train error will be less than test error at each epoch. <b>Thus at some point the more we minimize the training error the bigger will be the test error</b>.\n",
    "\n",
    "Hence, we would expect the training error to be small but we also want the gap between the trainig error and the test error to be small as well, i.e., we want our training model to effectively generalise our test data.\n",
    "\n",
    "1. Small training error:\n",
    "This factor corresponds to a challenge known as underfitting.\n",
    "Underfitting occurs when the model hasn't been supplied with enough capacity to capture data's underlying trend. Thus it is not able to fit the training set. For example, as we know that image recognition is a complex task and requires deep neural networks. If we use a single linear perceptron to classify the images it would result in an underfitted model as it lacks the capacity to train itself.\n",
    "Let us consider another case of regression model. If we use a linear model $\\bar{y} = b + w\\cdot{x}$  to capture the trend of an underlying parabolic dataset, it will simply underfit. However, if we will use $\\bar{y} = b + w_1\\cdot{x} + w_2\\cdot{x^2}$ then this will capture the trend perfectly. \n",
    "\n",
    "2. Gap between training and test grows larger:\n",
    "This factor corresponds to a challenge known as overfitting.\n",
    "Now, if the capacity of the model is high then it suffers from the problem of overfitting. In the second example above if we use a polynomial of degree 9 then it will pass through each data point but won't capture the underlying trend in the data.\n",
    "An indication of overfitting is when the model performs well on training data with low error but classifies the test data with a relatively substantial higher error.\n",
    "Now, if the model is too overfitted it could be fixed based on the following approaches:<br>\n",
    "    * Reduce depth and complexity.<br>\n",
    "    * Reduce number of nodes in each layer.<br>\n",
    "    * Reduce number of epochs.<br>\n",
    "    * Using larger datasets can also help to reduce overfitting, as the network must now be flexible enough to account for       more data. It won't always work, but training with more data can improve accuracy, so long as the data is clean and       relevant, and not just noisy data.\n",
    "\n",
    "Now, to wrap up, we have proposed that when the model is at insufficient capacity, i.e., the learning eqn is too simple to capture the underlying trend of the data, both the training and genralization errors are too high. As we increase the capacity of the model to properly fit the data the training error decreases and asymptotes to the minimum possible error. At this point we have reached the optimal zone where the function being used to train our data isn't as simple to underfit it but it is also not too complex so as to overfit the data. In this zone is the smallest gap between the training and the test error. From here on if we keep on increasing the complexity of the model then the training error keeps on decreasing as the model will now start memorizing specific features of the training data classifying them with maximum accuracy but it isn't able to generalize to newly inputted data, hence the test error is high. Eventually, the generalization gap becomes so large that the model is not able to classify the newly inputted data correctly even after low training error. Hence, we need to make regularization which reduces the generalization gap."
   ]
  },
  {
   "cell_type": "markdown",
   "metadata": {},
   "source": [
    "### Hyperparameters:\n",
    "Hyperparameters are different from other parameters like weights and biases. The weights and biases are adapted by the learning algorithm itself, whereas hyperparameters are not. Hyperparameters are used to control the behavior of the learning algorithm. By tuning the hyperparameters we are able to tune the capacity of the model. Examples include the learning rate, the number of nodes per layer, the number of hidden layers, the depth of the neural network and so on. The deeper the neural network the higher the capacity to learn.To address overfitting we can simply tune the hyperparameters.\n",
    "\n",
    "Tuning hyperparameters is exactly why we make use of a <b>validation set</b>. A validation set according to the definition is a set of data points which we use to fine tune the hyperparameters. By doing so we are able to fine tune the complexity of our model providing it with just enough capacity to capture the underlying trend to generalize the newly inputted data.\n",
    "What happens first is that we use the training set for the model to learn the weights and biases. Then we use the validation set to fine tune the hyperparameters.\n",
    "\n",
    "There is a very good reason why we don't use the training data to fine tune the hyperparameters. The reason is that during the training stage the goal is to minimize the training error. So naturally fine tuning the hyperparameters during the training stage based on the training set will aim to maximize the model capacity. That way our model can fit the training data to maximum accuaracy, eventually reaching a high enough capacity that results in overfitting.\n",
    "\n",
    "How we go about this is we split the training data into a training set and a validation set. The validation set is used to estimate the generalization error during or after training by updating the hyperparameters accordingly. Here, one should know that the training set will be roughly 3 or 4 times larger than the validation set.\n",
    "\n",
    "What is going to happen is that based on the trained model the model is going to classify a new subset of images that the model has never seen before, the validation set. What it does is that it evaluates the performance of our model for different combination of hyperparameter values. And we retain the values for the model with the least validation error. Since the first model is naturally trained to memorize the specific features of the training set, but we also fine tune the model to generalize it over images that it has never seen before. But we need to note that our classifier has seen our validation set indirectly every time it makes a decision on which classifier to use based on which hyperparameter to tune. Thus information about the validation set bleeds through the training set. Hence, we do a final evaluation of the model using the test set."
   ]
  },
  {
   "cell_type": "code",
   "execution_count": 18,
   "metadata": {},
   "outputs": [],
   "source": [
    "import numpy as np\n",
    "import matplotlib.pyplot as plt\n",
    "import keras\n",
    "from keras.datasets import mnist\n",
    "from keras.models import Sequential\n",
    "from keras.layers import Dense\n",
    "from keras.optimizers import Adam\n",
    "from keras.utils.np_utils import to_categorical\n",
    "import random"
   ]
  },
  {
   "cell_type": "code",
   "execution_count": 19,
   "metadata": {},
   "outputs": [],
   "source": [
    "np.random.seed(0)"
   ]
  },
  {
   "cell_type": "code",
   "execution_count": 20,
   "metadata": {},
   "outputs": [],
   "source": [
    "(X_train, y_train), (X_test, y_test) = mnist.load_data()"
   ]
  },
  {
   "cell_type": "code",
   "execution_count": 21,
   "metadata": {},
   "outputs": [
    {
     "name": "stdout",
     "output_type": "stream",
     "text": [
      "(60000, 28, 28)\n",
      "(10000, 28, 28)\n",
      "(60000,)\n"
     ]
    }
   ],
   "source": [
    "#we have 60,000 samples and each image is 28 pixels in height and 28 pixels wide\n",
    "print(X_train.shape)\n",
    "#similarly we have 10,000 samples in the test set\n",
    "print(X_test.shape)\n",
    "\n",
    "print(y_train.shape)"
   ]
  },
  {
   "cell_type": "code",
   "execution_count": 22,
   "metadata": {},
   "outputs": [],
   "source": [
    "#verifying the conditions that our data should meet\n",
    "assert(X_train.shape[0] == y_train.shape[0]), \"Testing if the number of images is not equal to the number of labels\"\n",
    "assert(X_test.shape[0] == y_test.shape[0]), \"Testing if the number of images is not equal to the number of labels\"\n",
    "assert(X_train.shape[1:] == (28, 28)), \"Tesitng if the dimensions of the images are not 28*28\"\n",
    "assert(X_test.shape[1:] == (28, 28)), \"Testing if the dimensions of the images are not 28*28\""
   ]
  },
  {
   "cell_type": "code",
   "execution_count": 23,
   "metadata": {},
   "outputs": [
    {
     "data": {
      "image/png": "[encoded data removed]",
      "text/plain": [
       "<Figure size 360x720 with 50 Axes>"
      ]
     },
     "metadata": {
      "needs_background": "light"
     },
     "output_type": "display_data"
    }
   ],
   "source": [
    "num_of_samples = []\n",
    "\n",
    "cols = 5\n",
    "num_classes = 10\n",
    "\n",
    "fig, axs = plt.subplots(nrows = num_classes, ncols = cols, figsize = (5, 10))\n",
    "fig.tight_layout()\n",
    "\n",
    "for i in range(cols):\n",
    "    for j in range(num_classes):\n",
    "        x_selected = X_train[y_train == j]\n",
    "        #if we don't specify cmap then it would result in a colorful representation\n",
    "        axs[j][i].imshow(x_selected[random.randint(0, len(x_selected)-1), :, :], cmap = plt.get_cmap(\"gray\"))\n",
    "        axs[j][i].axis(\"off\")\n",
    "        if i == 2:\n",
    "            axs[j][i].set_title(str(j))\n",
    "            #we will record the number of images for each category\n",
    "            num_of_samples.append(len(x_selected))"
   ]
  },
  {
   "cell_type": "code",
   "execution_count": 24,
   "metadata": {},
   "outputs": [
    {
     "name": "stdout",
     "output_type": "stream",
     "text": [
      "[5923, 6742, 5958, 6131, 5842, 5421, 5918, 6265, 5851, 5949]\n"
     ]
    },
    {
     "data": {
      "text/plain": [
       "Text(0, 0.5, 'Number of images')"
      ]
     },
     "execution_count": 24,
     "metadata": {},
     "output_type": "execute_result"
    },
    {
     "data": {
      "image/png": "[encoded data removed]",
      "text/plain": [
       "<Figure size 864x288 with 1 Axes>"
      ]
     },
     "metadata": {
      "needs_background": "light"
     },
     "output_type": "display_data"
    }
   ],
   "source": [
    "#summarizing and visualizing the numbers behind our data\n",
    "print(num_of_samples)\n",
    "plt.figure(figsize = (12,4))\n",
    "plt.bar(range(0, num_classes), num_of_samples)\n",
    "plt.title(\"Distribution of the training dataset\")\n",
    "plt.xlabel(\"Class number\")\n",
    "plt.ylabel(\"Number of images\")"
   ]
  },
  {
   "cell_type": "markdown",
   "metadata": {},
   "source": [
    "Data Preparation:"
   ]
  },
  {
   "cell_type": "code",
   "execution_count": 25,
   "metadata": {},
   "outputs": [],
   "source": [
    "#one-hot encoding the labels\n",
    "y_train = to_categorical(y_train, 10)\n",
    "y_test = to_categorical(y_test, 10)"
   ]
  },
  {
   "cell_type": "code",
   "execution_count": 26,
   "metadata": {},
   "outputs": [],
   "source": [
    "#normalizing the data\n",
    "X_train = X_train/255\n",
    "X_test = X_test/255"
   ]
  },
  {
   "cell_type": "markdown",
   "metadata": {},
   "source": [
    "Our training data contains 60,000 grayscale images. Each image contains pixel intensities from 0 to 255. We choose to\n",
    "divide by 255 because we want the intensity values between 0 to 1. This decreases the variance in the data.\n",
    "Due to the nature of the mathematical operations in the neural network we need to insure that the data has low variane.\n",
    "This helps the neural network to learn better.\n",
    "\n",
    "Now, due to the structure of our neural network the input layer will be multiplied by the weight matrix to form the input\n",
    "for the first hidden layer. To conduct matrix multiplication we must make our images one-dimensional.\n",
    "That is instead of the images being 28 rows and 28 columns we must flatten the images into an array of 784 elements."
   ]
  },
  {
   "cell_type": "code",
   "execution_count": 27,
   "metadata": {},
   "outputs": [
    {
     "name": "stdout",
     "output_type": "stream",
     "text": [
      "(60000, 784)\n",
      "(10000, 784)\n"
     ]
    }
   ],
   "source": [
    "num_pixels = 784\n",
    "X_train = X_train.reshape(X_train.shape[0], num_pixels)\n",
    "X_test = X_test.reshape(X_test.shape[0], num_pixels)\n",
    "\n",
    "print(X_train.shape)\n",
    "print(X_test.shape)"
   ]
  },
  {
   "cell_type": "markdown",
   "metadata": {},
   "source": [
    "Implementation code:"
   ]
  },
  {
   "cell_type": "code",
   "execution_count": 28,
   "metadata": {},
   "outputs": [],
   "source": [
    "#we will have 784 input nodes and 10 output nodes in the network\n",
    "def create_model():\n",
    "    model = Sequential()\n",
    "    model.add(Dense(10, input_dim = num_pixels, activation = 'relu'))\n",
    "    model.add(Dense(10, activation = 'relu'))\n",
    "    #defining the final output layer\n",
    "    model.add(Dense(num_classes, activation = 'softmax'))\n",
    "    model.compile(Adam(lr = 0.01), loss = 'categorical_crossentropy', metrics = ['accuracy'])\n",
    "    return model"
   ]
  },
  {
   "cell_type": "code",
   "execution_count": 29,
   "metadata": {},
   "outputs": [
    {
     "name": "stdout",
     "output_type": "stream",
     "text": [
      "Model: \"sequential_3\"\n",
      "_________________________________________________________________\n",
      "Layer (type)                 Output Shape              Param #   \n",
      "=================================================================\n",
      "dense_7 (Dense)              (None, 10)                7850      \n",
      "_________________________________________________________________\n",
      "dense_8 (Dense)              (None, 10)                110       \n",
      "_________________________________________________________________\n",
      "dense_9 (Dense)              (None, 10)                110       \n",
      "=================================================================\n",
      "Total params: 8,070\n",
      "Trainable params: 8,070\n",
      "Non-trainable params: 0\n",
      "_________________________________________________________________\n",
      "None\n"
     ]
    }
   ],
   "source": [
    "model = create_model()\n",
    "print(model.summary())"
   ]
  },
  {
   "cell_type": "markdown",
   "metadata": {},
   "source": [
    "Now, notice how there are 7850 parameters in the first layer. Now, if the images were to be RGB, then there would be 3 \n",
    "channels corresponding to each pixel and this would result in a flattened array of 15,552 values. Now each node in the \n",
    "hidden layer would have 15,552 inputs and would make it computationally harder to handle. Thus, we use convolutional \n",
    "neural networks in such cases which make the calculation more effective."
   ]
  },
  {
   "cell_type": "code",
   "execution_count": 30,
   "metadata": {},
   "outputs": [
    {
     "name": "stdout",
     "output_type": "stream",
     "text": [
      "Train on 54000 samples, validate on 6000 samples\n",
      "Epoch 1/10\n",
      "54000/54000 [==============================] - 1s 10us/step - loss: 0.5083 - accuracy: 0.8430 - val_loss: 0.2539 - val_accuracy: 0.9275\n",
      "Epoch 2/10\n",
      "54000/54000 [==============================] - 0s 8us/step - loss: 0.2961 - accuracy: 0.9140 - val_loss: 0.2199 - val_accuracy: 0.9388\n",
      "Epoch 3/10\n",
      "54000/54000 [==============================] - 0s 8us/step - loss: 0.2678 - accuracy: 0.9240 - val_loss: 0.2146 - val_accuracy: 0.9367\n",
      "Epoch 4/10\n",
      "54000/54000 [==============================] - 0s 8us/step - loss: 0.2497 - accuracy: 0.9281 - val_loss: 0.2002 - val_accuracy: 0.9442\n",
      "Epoch 5/10\n",
      "54000/54000 [==============================] - 0s 7us/step - loss: 0.2382 - accuracy: 0.9328 - val_loss: 0.2040 - val_accuracy: 0.9397\n",
      "Epoch 6/10\n",
      "54000/54000 [==============================] - 0s 7us/step - loss: 0.2304 - accuracy: 0.9344 - val_loss: 0.2042 - val_accuracy: 0.9385\n",
      "Epoch 7/10\n",
      "54000/54000 [==============================] - 0s 7us/step - loss: 0.2230 - accuracy: 0.9357 - val_loss: 0.1890 - val_accuracy: 0.9447\n",
      "Epoch 8/10\n",
      "54000/54000 [==============================] - 0s 7us/step - loss: 0.2177 - accuracy: 0.9361 - val_loss: 0.2097 - val_accuracy: 0.9397\n",
      "Epoch 9/10\n",
      "54000/54000 [==============================] - 0s 8us/step - loss: 0.2172 - accuracy: 0.9366 - val_loss: 0.1976 - val_accuracy: 0.9430\n",
      "Epoch 10/10\n",
      "54000/54000 [==============================] - 0s 7us/step - loss: 0.2088 - accuracy: 0.9403 - val_loss: 0.1921 - val_accuracy: 0.9453\n"
     ]
    }
   ],
   "source": [
    "history = model.fit(X_train, y_train, validation_split = 0.1, epochs = 10, batch_size = 200, verbose = 1, shuffle = 1)"
   ]
  },
  {
   "cell_type": "code",
   "execution_count": 31,
   "metadata": {},
   "outputs": [
    {
     "data": {
      "text/plain": [
       "Text(0.5, 0, 'epoch')"
      ]
     },
     "execution_count": 31,
     "metadata": {},
     "output_type": "execute_result"
    },
    {
     "data": {
      "image/png": "[encoded data removed]",
      "text/plain": [
       "<Figure size 432x288 with 1 Axes>"
      ]
     },
     "metadata": {
      "needs_background": "light"
     },
     "output_type": "display_data"
    }
   ],
   "source": [
    "plt.plot(history.history['loss'])\n",
    "plt.plot(history.history['val_loss'])\n",
    "plt.legend(['loss', 'val_loss'])\n",
    "plt.title('Loss')\n",
    "plt.xlabel('epoch')"
   ]
  },
  {
   "cell_type": "markdown",
   "metadata": {},
   "source": [
    "As we can see in the plot above the validation loss is lower than the training loss. There can be many reasons that can be \n",
    "attributed to this. For one, the validation loss is only calculated over the validation dataset while the training loss is \n",
    "calculated over the training dataset. The training set is 9 times larger as compared to  the validation set. \n",
    "However, what is important here is that the validation loss is approaching the training loss and this will continue to a \n",
    "point where the training loss will be less than the validation loss. That is where we begin to overfit the model. What that implies is that our model keeps memorizing the data and fails to generalize it for the new inputs.\n",
    "We will test it with 30 epochs."
   ]
  },
  {
   "cell_type": "code",
   "execution_count": 32,
   "metadata": {},
   "outputs": [
    {
     "name": "stdout",
     "output_type": "stream",
     "text": [
      "Train on 54000 samples, validate on 6000 samples\n",
      "Epoch 1/30\n",
      "54000/54000 [==============================] - 1s 10us/step - loss: 0.5133 - accuracy: 0.8417 - val_loss: 0.2523 - val_accuracy: 0.9265\n",
      "Epoch 2/30\n",
      "54000/54000 [==============================] - 0s 7us/step - loss: 0.2928 - accuracy: 0.9154 - val_loss: 0.2371 - val_accuracy: 0.9335\n",
      "Epoch 3/30\n",
      "54000/54000 [==============================] - 0s 7us/step - loss: 0.2653 - accuracy: 0.9217 - val_loss: 0.2314 - val_accuracy: 0.9343\n",
      "Epoch 4/30\n",
      "54000/54000 [==============================] - 0s 7us/step - loss: 0.2442 - accuracy: 0.9281 - val_loss: 0.1934 - val_accuracy: 0.9452\n",
      "Epoch 5/30\n",
      "54000/54000 [==============================] - 0s 7us/step - loss: 0.2246 - accuracy: 0.9342 - val_loss: 0.2068 - val_accuracy: 0.9422\n",
      "Epoch 6/30\n",
      "54000/54000 [==============================] - 0s 7us/step - loss: 0.2208 - accuracy: 0.9343 - val_loss: 0.1852 - val_accuracy: 0.9487\n",
      "Epoch 7/30\n",
      "54000/54000 [==============================] - 0s 8us/step - loss: 0.2093 - accuracy: 0.9378 - val_loss: 0.1869 - val_accuracy: 0.9457\n",
      "Epoch 8/30\n",
      "54000/54000 [==============================] - 0s 7us/step - loss: 0.2070 - accuracy: 0.9390 - val_loss: 0.1803 - val_accuracy: 0.9497\n",
      "Epoch 9/30\n",
      "54000/54000 [==============================] - 0s 7us/step - loss: 0.1973 - accuracy: 0.9417 - val_loss: 0.1931 - val_accuracy: 0.9483\n",
      "Epoch 10/30\n",
      "54000/54000 [==============================] - 0s 7us/step - loss: 0.1921 - accuracy: 0.9422 - val_loss: 0.1822 - val_accuracy: 0.9480\n",
      "Epoch 11/30\n",
      "54000/54000 [==============================] - 0s 7us/step - loss: 0.1895 - accuracy: 0.9426 - val_loss: 0.2023 - val_accuracy: 0.9443\n",
      "Epoch 12/30\n",
      "54000/54000 [==============================] - 0s 8us/step - loss: 0.1863 - accuracy: 0.9441 - val_loss: 0.1874 - val_accuracy: 0.9463\n",
      "Epoch 13/30\n",
      "54000/54000 [==============================] - 0s 7us/step - loss: 0.1837 - accuracy: 0.9441 - val_loss: 0.1906 - val_accuracy: 0.9463\n",
      "Epoch 14/30\n",
      "54000/54000 [==============================] - 0s 7us/step - loss: 0.1799 - accuracy: 0.9458 - val_loss: 0.1942 - val_accuracy: 0.9445\n",
      "Epoch 15/30\n",
      "54000/54000 [==============================] - 0s 7us/step - loss: 0.1813 - accuracy: 0.9451 - val_loss: 0.1833 - val_accuracy: 0.9492\n",
      "Epoch 16/30\n",
      "54000/54000 [==============================] - 0s 7us/step - loss: 0.1769 - accuracy: 0.9465 - val_loss: 0.1831 - val_accuracy: 0.9480\n",
      "Epoch 17/30\n",
      "54000/54000 [==============================] - 0s 7us/step - loss: 0.1737 - accuracy: 0.9482 - val_loss: 0.1783 - val_accuracy: 0.9522\n",
      "Epoch 18/30\n",
      "54000/54000 [==============================] - 0s 7us/step - loss: 0.1758 - accuracy: 0.9470 - val_loss: 0.1824 - val_accuracy: 0.9478\n",
      "Epoch 19/30\n",
      "54000/54000 [==============================] - 0s 7us/step - loss: 0.1761 - accuracy: 0.9469 - val_loss: 0.1778 - val_accuracy: 0.9498\n",
      "Epoch 20/30\n",
      "54000/54000 [==============================] - 0s 7us/step - loss: 0.1691 - accuracy: 0.9482 - val_loss: 0.1930 - val_accuracy: 0.9460\n",
      "Epoch 21/30\n",
      "54000/54000 [==============================] - 0s 7us/step - loss: 0.1703 - accuracy: 0.9482 - val_loss: 0.1809 - val_accuracy: 0.9493\n",
      "Epoch 22/30\n",
      "54000/54000 [==============================] - 0s 7us/step - loss: 0.1660 - accuracy: 0.9497 - val_loss: 0.1807 - val_accuracy: 0.9505\n",
      "Epoch 23/30\n",
      "54000/54000 [==============================] - 0s 7us/step - loss: 0.1710 - accuracy: 0.9476 - val_loss: 0.1876 - val_accuracy: 0.9482\n",
      "Epoch 24/30\n",
      "54000/54000 [==============================] - 0s 7us/step - loss: 0.1653 - accuracy: 0.9491 - val_loss: 0.1947 - val_accuracy: 0.9448\n",
      "Epoch 25/30\n",
      "54000/54000 [==============================] - 0s 7us/step - loss: 0.1646 - accuracy: 0.9502 - val_loss: 0.1821 - val_accuracy: 0.9487\n",
      "Epoch 26/30\n",
      "54000/54000 [==============================] - 0s 7us/step - loss: 0.1618 - accuracy: 0.9511 - val_loss: 0.1911 - val_accuracy: 0.9477\n",
      "Epoch 27/30\n",
      "54000/54000 [==============================] - 0s 7us/step - loss: 0.1689 - accuracy: 0.9476 - val_loss: 0.1912 - val_accuracy: 0.9482\n",
      "Epoch 28/30\n",
      "54000/54000 [==============================] - 0s 7us/step - loss: 0.1631 - accuracy: 0.9501 - val_loss: 0.2019 - val_accuracy: 0.9455\n",
      "Epoch 29/30\n",
      "54000/54000 [==============================] - 0s 7us/step - loss: 0.1591 - accuracy: 0.9514 - val_loss: 0.1842 - val_accuracy: 0.9505\n",
      "Epoch 30/30\n",
      "54000/54000 [==============================] - 0s 7us/step - loss: 0.1594 - accuracy: 0.9518 - val_loss: 0.1938 - val_accuracy: 0.9493\n"
     ]
    }
   ],
   "source": [
    "model_test = create_model()\n",
    "history_test = model_test.fit(X_train, y_train, validation_split = 0.1, epochs = 30, batch_size = 200, verbose = 1, shuffle = 1)"
   ]
  },
  {
   "cell_type": "code",
   "execution_count": 33,
   "metadata": {},
   "outputs": [
    {
     "data": {
      "text/plain": [
       "Text(0.5, 0, 'epoch')"
      ]
     },
     "execution_count": 33,
     "metadata": {},
     "output_type": "execute_result"
    },
    {
     "data": {
      "image/png": "[encoded data removed]",
      "text/plain": [
       "<Figure size 432x288 with 1 Axes>"
      ]
     },
     "metadata": {
      "needs_background": "light"
     },
     "output_type": "display_data"
    }
   ],
   "source": [
    "plt.plot(history_test.history['loss'])\n",
    "plt.plot(history_test.history['val_loss'])\n",
    "plt.legend(['loss', 'val_loss'])\n",
    "plt.title('Loss')\n",
    "plt.xlabel('epoch')"
   ]
  },
  {
   "cell_type": "code",
   "execution_count": 34,
   "metadata": {},
   "outputs": [
    {
     "data": {
      "text/plain": [
       "Text(0.5, 0, 'epoch')"
      ]
     },
     "execution_count": 34,
     "metadata": {},
     "output_type": "execute_result"
    },
    {
     "data": {
      "image/png": "[encoded data removed]",
      "text/plain": [
       "<Figure size 432x288 with 1 Axes>"
      ]
     },
     "metadata": {
      "needs_background": "light"
     },
     "output_type": "display_data"
    }
   ],
   "source": [
    "plt.plot(history_test.history['accuracy'])\n",
    "plt.plot(history_test.history['val_accuracy'])\n",
    "plt.legend(['acc', 'val_acc'])\n",
    "plt.title('Accuracy')\n",
    "plt.xlabel('epoch')"
   ]
  },
  {
   "cell_type": "markdown",
   "metadata": {},
   "source": [
    "If we increase the computational capacity of the model to a point where it starts memorizing the data rather than \n",
    "develop general patterns that it can then use on the test data. To demonstarte this we can increase the number of nodes.\n",
    "We will increase the number of nodes to 784 in each layer."
   ]
  },
  {
   "cell_type": "code",
   "execution_count": 39,
   "metadata": {},
   "outputs": [],
   "source": [
    "def create_model_test():\n",
    "    model = Sequential()\n",
    "    model.add(Dense(num_pixels, input_dim = num_pixels, activation = 'relu'))\n",
    "    model.add(Dense(num_pixels, activation = 'relu'))\n",
    "    #defining the final output layer\n",
    "    model.add(Dense(num_classes, activation = 'softmax'))\n",
    "    model.compile(Adam(lr = 0.01), loss = 'categorical_crossentropy', metrics = ['accuracy'])\n",
    "    return model"
   ]
  },
  {
   "cell_type": "code",
   "execution_count": 36,
   "metadata": {},
   "outputs": [],
   "source": [
    "model_test2 = create_model_test()"
   ]
  },
  {
   "cell_type": "code",
   "execution_count": 37,
   "metadata": {},
   "outputs": [
    {
     "name": "stdout",
     "output_type": "stream",
     "text": [
      "Train on 54000 samples, validate on 6000 samples\n",
      "Epoch 1/10\n",
      "54000/54000 [==============================] - 3s 62us/step - loss: 0.3335 - accuracy: 0.9129 - val_loss: 0.1233 - val_accuracy: 0.9622\n",
      "Epoch 2/10\n",
      "54000/54000 [==============================] - 3s 58us/step - loss: 0.1282 - accuracy: 0.9626 - val_loss: 0.1316 - val_accuracy: 0.9605\n",
      "Epoch 3/10\n",
      "54000/54000 [==============================] - 3s 60us/step - loss: 0.1066 - accuracy: 0.9687 - val_loss: 0.1060 - val_accuracy: 0.9722\n",
      "Epoch 4/10\n",
      "54000/54000 [==============================] - 3s 62us/step - loss: 0.0915 - accuracy: 0.9729 - val_loss: 0.1078 - val_accuracy: 0.9692\n",
      "Epoch 5/10\n",
      "54000/54000 [==============================] - 3s 62us/step - loss: 0.0855 - accuracy: 0.9746 - val_loss: 0.1122 - val_accuracy: 0.9713\n",
      "Epoch 6/10\n",
      "54000/54000 [==============================] - 3s 62us/step - loss: 0.0748 - accuracy: 0.9788 - val_loss: 0.1202 - val_accuracy: 0.9713\n",
      "Epoch 7/10\n",
      "54000/54000 [==============================] - 3s 63us/step - loss: 0.0750 - accuracy: 0.9790 - val_loss: 0.1156 - val_accuracy: 0.9707\n",
      "Epoch 8/10\n",
      "54000/54000 [==============================] - 3s 63us/step - loss: 0.0674 - accuracy: 0.9802 - val_loss: 0.1581 - val_accuracy: 0.9643\n",
      "Epoch 9/10\n",
      "54000/54000 [==============================] - 3s 64us/step - loss: 0.0596 - accuracy: 0.9834 - val_loss: 0.1227 - val_accuracy: 0.9745\n",
      "Epoch 10/10\n",
      "54000/54000 [==============================] - 3s 63us/step - loss: 0.0625 - accuracy: 0.9831 - val_loss: 0.1500 - val_accuracy: 0.9737\n"
     ]
    }
   ],
   "source": [
    "history_test2 = model_test2.fit(X_train, y_train, validation_split = 0.1, epochs = 10, batch_size = 200, verbose = 1, shuffle = 1)"
   ]
  },
  {
   "cell_type": "code",
   "execution_count": 38,
   "metadata": {},
   "outputs": [
    {
     "data": {
      "text/plain": [
       "Text(0.5, 0, 'epoch')"
      ]
     },
     "execution_count": 38,
     "metadata": {},
     "output_type": "execute_result"
    },
    {
     "data": {
      "image/png": "[encoded data removed]",
      "text/plain": [
       "<Figure size 432x288 with 1 Axes>"
      ]
     },
     "metadata": {
      "needs_background": "light"
     },
     "output_type": "display_data"
    }
   ],
   "source": [
    "plt.plot(history_test2.history['loss'])\n",
    "plt.plot(history_test2.history['val_loss'])\n",
    "plt.legend(['loss', 'val_loss'])\n",
    "plt.title('Loss')\n",
    "plt.xlabel('epoch')"
   ]
  },
  {
   "cell_type": "code",
   "execution_count": 42,
   "metadata": {},
   "outputs": [
    {
     "name": "stdout",
     "output_type": "stream",
     "text": [
      "<class 'list'>\n",
      "Test score: 0.2282178461678326\n",
      "Test accuracy: 0.9362999796867371\n"
     ]
    }
   ],
   "source": [
    "#let's evaluate the model that we have created\n",
    "score = model.evaluate(X_test, y_test, verbose = 0)\n",
    "print(type(score))\n",
    "print('Test score:', score[0])\n",
    "print('Test accuracy:', score[1])"
   ]
  },
  {
   "cell_type": "code",
   "execution_count": 45,
   "metadata": {},
   "outputs": [
    {
     "name": "stdout",
     "output_type": "stream",
     "text": [
      "<Response [200]>\n"
     ]
    },
    {
     "data": {
      "text/plain": [
       "<matplotlib.image.AxesImage at 0x13fbad290>"
      ]
     },
     "execution_count": 45,
     "metadata": {},
     "output_type": "execute_result"
    },
    {
     "data": {
      "image/png": "[encoded data removed]",
      "text/plain": [
       "<Figure size 432x288 with 1 Axes>"
      ]
     },
     "metadata": {
      "needs_background": "light"
     },
     "output_type": "display_data"
    }
   ],
   "source": [
    "import requests\n",
    "#PIL stands for python imaging library\n",
    "from PIL import Image\n",
    "\n",
    "url = 'https://www.researchgate.net/profile/Jose_Sempere/publication/221258631/figure/fig1/AS:305526891139075@1449854695342/Handwritten-digit-2.png'\n",
    "\n",
    "response = requests.get(url, stream = 1)\n",
    "#response 200 implies a successful get request\n",
    "print(response)\n",
    "\n",
    "#we will use the zImage module to identify the raw content of the response\n",
    "img = Image.open(response.raw)\n",
    "\n",
    "plt.imshow(img)"
   ]
  },
  {
   "cell_type": "markdown",
   "metadata": {},
   "source": [
    "Now the image should correspond to what the neural network was supposed to learn. We should trasform the image into a 28\\*28\n",
    "grayscale image. The above image is a 'png' file. We need to access it as a numpy array so that we can modify it."
   ]
  },
  {
   "cell_type": "code",
   "execution_count": 46,
   "metadata": {},
   "outputs": [
    {
     "name": "stdout",
     "output_type": "stream",
     "text": [
      "(850, 850, 4)\n"
     ]
    }
   ],
   "source": [
    "img_array = np.asarray(img)\n",
    "print(img_array.shape)"
   ]
  },
  {
   "cell_type": "code",
   "execution_count": 47,
   "metadata": {},
   "outputs": [
    {
     "name": "stdout",
     "output_type": "stream",
     "text": [
      "(28, 28, 4)\n"
     ]
    }
   ],
   "source": [
    "import cv2\n",
    "\n",
    "resized = cv2.resize(img_array, (28, 28))\n",
    "print(resized.shape)"
   ]
  },
  {
   "cell_type": "code",
   "execution_count": 48,
   "metadata": {},
   "outputs": [
    {
     "data": {
      "text/plain": [
       "<matplotlib.image.AxesImage at 0x13fb14990>"
      ]
     },
     "execution_count": 48,
     "metadata": {},
     "output_type": "execute_result"
    },
    {
     "data": {
      "image/png": "[encoded data removed]",
      "text/plain": [
       "<Figure size 432x288 with 1 Axes>"
      ]
     },
     "metadata": {
      "needs_background": "light"
     },
     "output_type": "display_data"
    }
   ],
   "source": [
    "'''\n",
    "Notice that the image has a depth of 4. These represent the red, green, blue and alpha channels.\n",
    "'''\n",
    "gray_scale = cv2.cvtColor(resized, cv2.COLOR_BGR2GRAY)\n",
    "plt.imshow(gray_scale, cmap = plt.get_cmap(\"gray\"))"
   ]
  },
  {
   "cell_type": "markdown",
   "metadata": {},
   "source": [
    "Now there is still one problem. We have trained our neural network on images with balck background and white color representing\n",
    "the digit."
   ]
  },
  {
   "cell_type": "code",
   "execution_count": 49,
   "metadata": {},
   "outputs": [
    {
     "data": {
      "text/plain": [
       "<matplotlib.image.AxesImage at 0x13fb4cb90>"
      ]
     },
     "execution_count": 49,
     "metadata": {},
     "output_type": "execute_result"
    },
    {
     "data": {
      "image/png": "[encoded data removed]",
      "text/plain": [
       "<Figure size 432x288 with 1 Axes>"
      ]
     },
     "metadata": {
      "needs_background": "light"
     },
     "output_type": "display_data"
    }
   ],
   "source": [
    "image = cv2.bitwise_not(gray_scale)\n",
    "plt.imshow(image, cmap = plt.get_cmap(\"gray\"))"
   ]
  },
  {
   "cell_type": "code",
   "execution_count": 50,
   "metadata": {},
   "outputs": [
    {
     "name": "stdout",
     "output_type": "stream",
     "text": [
      "[[0.         0.         0.         0.         0.         0.\n",
      "  0.         0.         0.         0.         0.         0.\n",
      "  0.         0.4627451  1.         1.         1.         1.\n",
      "  1.         1.         1.         1.         0.87058824 0.\n",
      "  0.         0.         0.         0.         0.         0.\n",
      "  0.         0.         0.         0.         0.         0.\n",
      "  1.         1.         1.         1.         1.         1.\n",
      "  1.         1.         1.         1.         1.         1.\n",
      "  1.         1.         1.         0.00784314 0.         0.\n",
      "  0.         0.         0.         0.         0.         0.\n",
      "  0.         0.         0.         1.         1.         1.\n",
      "  1.         1.         1.         1.         1.         1.\n",
      "  1.         1.         1.         1.         1.         1.\n",
      "  1.         1.         1.         0.         0.         0.\n",
      "  0.         0.         0.         0.         0.         0.\n",
      "  0.         1.         1.         1.         1.         1.\n",
      "  1.         1.         1.         1.         1.         1.\n",
      "  1.         1.         1.         1.         1.         1.\n",
      "  1.         0.         0.         0.         0.         0.\n",
      "  0.         0.         0.         0.         0.         1.\n",
      "  1.         1.         1.         1.         1.         1.\n",
      "  1.         1.         0.99607843 0.99607843 0.99607843 0.\n",
      "  0.9254902  1.         1.         1.         1.         0.\n",
      "  0.         0.         0.         0.         0.         0.\n",
      "  0.         0.         0.         0.12941176 1.         1.\n",
      "  1.         1.         1.         1.         1.         0.12941176\n",
      "  0.         0.         0.         0.         0.         1.\n",
      "  1.         1.         1.         0.         0.         0.\n",
      "  0.         0.         0.         0.         0.         0.\n",
      "  0.         0.         0.08235294 1.         1.         1.\n",
      "  1.         1.         0.08235294 0.         0.         0.\n",
      "  0.         0.         0.84313725 1.         1.         1.\n",
      "  1.         0.         0.         0.         0.         0.\n",
      "  0.         0.         0.         0.         0.         0.\n",
      "  0.         0.         0.24705882 1.         1.         0.5372549\n",
      "  0.         0.         0.         0.         0.         0.\n",
      "  0.92156863 1.         1.         1.         1.         0.\n",
      "  0.         0.         0.         0.         0.         0.\n",
      "  0.         0.         0.         0.         0.         0.\n",
      "  0.         1.         0.         0.         0.         0.\n",
      "  0.         0.         0.         0.         0.92156863 1.\n",
      "  1.         1.         1.         0.         0.         0.\n",
      "  0.         0.         0.         0.         0.         0.\n",
      "  0.         0.         0.         0.         0.         0.\n",
      "  0.         0.         0.         0.         0.         0.\n",
      "  0.         0.02745098 1.         1.         1.         1.\n",
      "  1.         0.         0.         0.         0.         0.\n",
      "  0.         0.         0.         0.         0.         0.\n",
      "  0.         0.         0.         0.         0.         0.\n",
      "  0.         0.         0.         0.         0.         1.\n",
      "  1.         1.         1.         1.         0.         0.\n",
      "  0.         0.         0.         0.         0.         0.\n",
      "  0.         0.         0.         0.         0.         0.\n",
      "  0.         0.         0.         0.         0.         0.\n",
      "  0.         0.         1.         1.         1.         1.\n",
      "  1.         1.         0.         0.         0.         0.\n",
      "  0.         0.         0.         0.         0.         0.\n",
      "  0.         0.         0.         0.         0.         0.\n",
      "  0.         0.         0.         0.         0.         0.\n",
      "  1.         1.         1.         1.         1.         0.00784314\n",
      "  0.         0.         0.         0.         0.         0.\n",
      "  0.         0.         0.         0.         0.         0.\n",
      "  0.         0.         0.         0.         0.         0.\n",
      "  0.         0.         0.         0.         1.         1.\n",
      "  1.         1.         0.89803922 0.         0.         0.\n",
      "  0.         0.         0.         0.         0.         0.\n",
      "  0.         0.         0.         0.         0.         0.\n",
      "  0.         0.         0.         0.         0.         0.\n",
      "  0.         1.         1.         1.         1.         0.4627451\n",
      "  0.         0.         0.         0.         0.         0.\n",
      "  0.         0.         0.         0.         0.         0.\n",
      "  0.         0.         0.         0.         0.         0.\n",
      "  0.         0.         0.         0.         0.         1.\n",
      "  1.         1.         0.43529412 0.         0.         0.\n",
      "  0.         0.         0.         0.         0.         0.\n",
      "  0.         0.         1.         1.         1.         0.\n",
      "  0.         0.         0.         0.         0.         0.\n",
      "  0.         0.         1.         1.         1.         1.\n",
      "  0.08235294 0.         0.         0.         0.         0.\n",
      "  0.         0.         0.         0.         1.         1.\n",
      "  1.         1.         1.         1.         1.         1.\n",
      "  1.         0.         0.         0.         0.         0.\n",
      "  1.         1.         1.         1.         0.08235294 0.\n",
      "  0.         0.         0.         0.         0.         0.\n",
      "  0.         1.         1.         1.         1.         1.\n",
      "  1.         1.         1.         1.         1.         1.\n",
      "  1.         1.         1.         1.         1.         1.\n",
      "  1.         0.97647059 0.         0.         0.         0.\n",
      "  0.         0.         0.         0.         0.         1.\n",
      "  1.         1.         1.         1.         1.         1.\n",
      "  1.         1.         1.         1.         1.         1.\n",
      "  1.         1.         1.         1.         1.         1.\n",
      "  0.08235294 0.         0.         0.         0.         0.\n",
      "  0.         0.         1.         1.         1.         1.\n",
      "  1.         1.         1.         1.         1.         1.\n",
      "  1.         1.         1.         1.         1.         1.\n",
      "  1.         1.         1.         1.         1.         0.\n",
      "  0.         0.         0.         1.         1.         0.\n",
      "  1.         1.         1.         1.         1.         0.\n",
      "  0.         0.         0.         1.         1.         1.\n",
      "  1.         1.         1.         1.         1.         1.\n",
      "  1.         1.         1.         1.         1.         1.\n",
      "  1.         1.         1.         1.         0.         1.\n",
      "  1.         1.         1.         0.         0.         0.\n",
      "  0.         0.         0.24313725 1.         1.         1.\n",
      "  1.         1.         1.         1.         1.         1.\n",
      "  1.         1.         1.         1.         1.         1.\n",
      "  1.         0.         0.         0.92941176 1.         1.\n",
      "  1.         1.         1.         0.18039216 0.18039216 1.\n",
      "  1.         1.         1.         1.         1.         1.\n",
      "  0.81960784 0.81960784 0.         0.81960784 0.81960784 0.81960784\n",
      "  0.84313725 1.         1.         1.         0.         0.\n",
      "  0.         0.46666667 1.         1.         1.         1.\n",
      "  1.         1.         1.         1.         1.         1.\n",
      "  1.         1.         1.         0.75294118 0.         0.\n",
      "  0.         0.         0.         0.         0.09803922 0.75294118\n",
      "  0.75294118 0.75294118 0.         0.         0.         0.\n",
      "  0.         0.         1.         1.         1.         1.\n",
      "  1.         1.         1.         1.         1.         0.5254902\n",
      "  0.         0.         0.         0.         0.         0.\n",
      "  0.         0.         0.         0.         0.         0.\n",
      "  0.         0.         0.         0.         0.         0.\n",
      "  0.81176471 1.         1.         1.         1.         1.\n",
      "  1.         1.         0.         0.         0.         0.\n",
      "  0.         0.         0.         0.         0.         0.\n",
      "  0.         0.         0.         0.         0.         0.\n",
      "  0.         0.         0.         0.         0.         0.\n",
      "  0.         1.         1.         1.         0.         0.\n",
      "  0.         0.         0.         0.         0.         0.\n",
      "  0.         0.         0.         0.         0.         0.\n",
      "  0.         0.         0.         0.        ]]\n"
     ]
    }
   ],
   "source": [
    "#similar to what we did with the images before we will normalize the images\n",
    "image = image/255\n",
    "image = image.reshape(1, 784)\n",
    "print(image)"
   ]
  },
  {
   "cell_type": "code",
   "execution_count": 52,
   "metadata": {},
   "outputs": [
    {
     "name": "stdout",
     "output_type": "stream",
     "text": [
      "predicted digit: [2]\n"
     ]
    }
   ],
   "source": [
    "prediction = model.predict_classes(image)\n",
    "print(\"predicted digit:\", str(prediction))"
   ]
  }
 ],
 "metadata": {
  "kernelspec": {
   "display_name": "Python 3",
   "language": "python",
   "name": "python3"
  },
  "language_info": {
   "codemirror_mode": {
    "name": "ipython",
    "version": 3
   },
   "file_extension": ".py",
   "mimetype": "text/x-python",
   "name": "python",
   "nbconvert_exporter": "python",
   "pygments_lexer": "ipython3",
   "version": "3.7.5"
  }
 },
 "nbformat": 4,
 "nbformat_minor": 4
}

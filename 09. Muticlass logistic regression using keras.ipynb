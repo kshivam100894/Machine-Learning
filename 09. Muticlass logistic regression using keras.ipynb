{
 "cells": [
  {
   "cell_type": "markdown",
   "metadata": {},
   "source": [
    "# Multiclass Classification using keras:"
   ]
  },
  {
   "cell_type": "markdown",
   "metadata": {},
   "source": [
    "As we discussed in the previous notebook, the term multiclass simply refers to the dataset containing more than two classes. This means that 3 or more labels are present in the dataset.\n",
    "\n",
    "Also, we have already discussed how we force the output to be a distribution over the classes using softmax function.\n",
    "\n",
    "Let's consider an example where we need to classify three different balls: <I>Soccer ball</I>, <I>Basket ball</I> and <I>Volley ball</I>.\n",
    "Now, we will have inputs say $x1, x2, x3$ and $x4$ which will be fed to the model. Now the model will have to produce three different labels corresponding to each of the classes. Now if we assign label $2$ to soccer ball, label $1$ to basket ball and label $0$ to volley ball. The probability associated with $2$ should be greater than $1$ and probability associated with $1$ should be greater than $0$.\n",
    "Hence, the requirement arises that:\n",
    "1. Relative magnitudes must be maintained.\n",
    "2. All probabilities must add up to 1.\n",
    "\n",
    "The softmax function satisfies both of the above conditions. The softmax function has the following equation:\n",
    "$$\n",
    "        P_m = \\frac {e^m}{\\sum_{i=1}^n e^i}\n",
    "$$\n",
    "This equation refers to the probability of some score $m$ given there are $n$ classes.\n",
    "So for each score $m, \\;e^m$ is divided by the summation of exponential of all scores.\n",
    "Hence, in case of the ball classififcation the function will take the following form:\n",
    "$$\n",
    "        P(score\\; m) = \\frac{e^m}{e^0 + e^1 + e^2}\n",
    "$$\n",
    "\n",
    "Using the above analysis if we calculate the probability of the ball being a soccer ball:\n",
    "then, \n",
    "$$\n",
    "P(score \\;2) = \\frac{e^2}{e^0 + e^1 + e^2} = 0.67\n",
    "$$\n",
    "\n",
    "Similarly, $P(score\\; 1) = 0.24$ and $P(score \\;0) = 0.09$.\n",
    "\n",
    "Now, if we process the inputs through our model which results in output labels of $0$, $1$ and $2$, then we apply the softmax activation.\n",
    "\n",
    "Before making predictions we need to train the model. Since this is supervised learning model hence we need previously labelled data. Here a problem arises on how to label the data without having any issues of dependency among the labels.\n",
    "Intuitively, we might feel that we can label the classes as $0$, $1$ and $2$. This is known as <I><b>label encoding</b></I> which gives numerical aliases to different classes. However, this creates inter dependency among the classes such that our algorithm might consider these to be in some kind of order. This doesn't make sense as these classes are mutually exclusive. For this reason we cannot use label encoding.\n",
    "To label our data we use one-hot label encoding. One-hot label encoding works by creating separate columns for each classes and marks the values using $0$ and $1$. In the above example it can be represented as:"
   ]
  },
  {
   "cell_type": "markdown",
   "metadata": {},
   "source": [
    "$$\\begin{matrix}\n",
    "    Soccer ball: [1, 0, 0]\\\\\n",
    "    Volley ball: [0, 0, 1]\n",
    "\\end{matrix}\n",
    "$$"
   ]
  },
  {
   "cell_type": "markdown",
   "metadata": {},
   "source": [
    "### Multiclass Cross Entropy:\n",
    "It is a way to measure the error in a neural network. A higher cross entropy value means that the model is more or less accurate.\n",
    "Going to the previous example, lets say we pass inputs for 3 balls through a model, and the corresponding outputs for the balls are as follows:"
   ]
  },
  {
   "cell_type": "markdown",
   "metadata": {},
   "source": [
    "$$\\begin{matrix}\n",
    "                           &Ball \\;1 &   Ball \\;2    &Ball\\; 3\\\\\n",
    "            Actual\\; Label: & Soccer\\;Ball & Basket\\;Ball&  Volley\\;Ball\\\\\n",
    "    Prediction \\;Soccer \\;ball  &   0.4   &      0.3      &   0.5\\\\\n",
    "    Prediction \\;Basket \\;ball    &  0.2   &      0.6      &   0.3\\\\\n",
    "    Prediction \\;Volley \\;ball    & 0.4    &     0.1       &  0.2\n",
    "\\end{matrix}\n",
    "$$"
   ]
  },
  {
   "cell_type": "markdown",
   "metadata": {},
   "source": [
    "Now, in order to generalise the formula for cross entropy in case of multiclass classification, we will multiply the probability values with the actual one hot encoded labels which in this case would represent the event whether or not the prediction is true.\n",
    "One-hot encoded labels for the above input are:"
   ]
  },
  {
   "cell_type": "markdown",
   "metadata": {},
   "source": [
    "$$\n",
    "\\begin{matrix}\n",
    "       &       Ball \\;1  & Ball\\; 2  & Ball \\;3\\\\\n",
    "Soccer \\;ball &    1    &   0     &   0\\\\\n",
    "Basket \\;ball   &  0     &  1    &    0\\\\\n",
    "Volley\\; ball  &   0    &   0      &  1\n",
    "\\end{matrix}\n",
    "$$"
   ]
  },
  {
   "cell_type": "markdown",
   "metadata": {},
   "source": [
    "Taking the elementwise product of the natural log of predictions matrix with the one-hot encoded labels matrix, we would get:\n",
    "$$\n",
    "        -(1\\times ln(0.4) + 1\\times ln(0.6) + 1\\times ln(0.2)) = 3.04\n",
    "$$"
   ]
  },
  {
   "cell_type": "markdown",
   "metadata": {},
   "source": [
    "### Code Implementation:"
   ]
  },
  {
   "cell_type": "code",
   "execution_count": 3,
   "metadata": {},
   "outputs": [
    {
     "name": "stderr",
     "output_type": "stream",
     "text": [
      "Using TensorFlow backend.\n"
     ]
    }
   ],
   "source": [
    "import numpy as np\n",
    "import matplotlib.pyplot as plt\n",
    "from sklearn import datasets\n",
    "import keras\n",
    "from keras.models import Sequential\n",
    "from keras.layers import Dense\n",
    "from keras.optimizers import Adam\n",
    "#importing to_categorical to one-hot encode the the output y\n",
    "from keras.utils.np_utils import to_categorical"
   ]
  },
  {
   "cell_type": "code",
   "execution_count": 6,
   "metadata": {},
   "outputs": [
    {
     "name": "stdout",
     "output_type": "stream",
     "text": [
      "[[ 0.95219249  1.39076863]\n",
      " [ 1.65952714  1.68618744]\n",
      " [-0.473863    0.05839169]\n",
      " [-1.41959667  0.96995176]\n",
      " [ 1.05997353 -0.78014296]\n",
      " [-1.60724319 -1.18447497]\n",
      " [-0.82564969 -1.1275828 ]\n",
      " [-0.11680167 -0.0467727 ]\n",
      " [ 0.72626083 -0.10110012]\n",
      " [ 0.42796744 -0.36373081]]\n",
      "[3 3 4 0 2 1 1 4 4 4]\n"
     ]
    }
   ],
   "source": [
    "#Creating the multiclass dataset\n",
    "n_pts = 500\n",
    "\n",
    "#declaring a nested list of centers for the data points to be scattered around\n",
    "centers = [[-1, 1], [-1, -1], [1, -1], [1, 1], [0, 0]]\n",
    "\n",
    "#make_blobs() creates a data points that are centered around a chosen data point\n",
    "#returns a dataset and labels\n",
    "#the cluster_std parameter refers to the standard deviation of the data points around there respective centers\n",
    "X, y = datasets.make_blobs(n_samples = n_pts, random_state = 123, centers = centers, cluster_std = 0.4)\n",
    "\n",
    "print(X[0:10,:])\n",
    "print(y[0:10])"
   ]
  },
  {
   "cell_type": "code",
   "execution_count": 7,
   "metadata": {},
   "outputs": [
    {
     "data": {
      "text/plain": [
       "<matplotlib.collections.PathCollection at 0x13e6e8890>"
      ]
     },
     "execution_count": 7,
     "metadata": {},
     "output_type": "execute_result"
    },
    {
     "data": {
      "image/png": "[encoded data removed]",
      "text/plain": [
       "<Figure size 432x288 with 1 Axes>"
      ]
     },
     "metadata": {
      "needs_background": "light"
     },
     "output_type": "display_data"
    }
   ],
   "source": [
    "#the data label 0 corresponds to the point for 1st center: [-1, 1]\n",
    "#similarly, the data label 1 corresponds to the 2nd center: [-1, -1] and the data label 2 corresponds to the 3rd center: [1, -1]\n",
    "#visualizing the dataset\n",
    "plt.scatter(X[y==0, 0], X[y==0, 1])\n",
    "plt.scatter(X[y==1, 0], X[y==1, 1])\n",
    "plt.scatter(X[y==2, 0], X[y==2, 1])\n",
    "plt.scatter(X[y==3, 0], X[y==3, 1])\n",
    "plt.scatter(X[y==4, 0], X[y==4, 1])"
   ]
  },
  {
   "cell_type": "code",
   "execution_count": 24,
   "metadata": {},
   "outputs": [
    {
     "name": "stdout",
     "output_type": "stream",
     "text": [
      "[3 3 4 0 2 1 1 4 4 4 3 2 1 0 2 4 4 4 3 0 3 0 3 4 1 3 1 0 4 2 3 1 0 4 1 0 4\n",
      " 0 4 0 1 3 3 0 3 1 3 4 0 4 0 2 3 0 2 4 4 0 3 4 1 3 0 4 2 1 1 2 3 2 3 2 1 1\n",
      " 3 2 4 2 2 3 0 2 4 3 2 1 3 3 3 3 1 1 4 2 4 4 1 2 4 1 4 2 2 3 4 1 1 3 3 2 1\n",
      " 3 1 0 1 0 4 4 4 3 1 3 3 3 1 4 4 0 2 0 1 1 0 4 0 1 1 4 4 0 4 3 4 4 2 4 0 0\n",
      " 0 4 2 0 4 1 0 2 2 1 3 0 1 2 2 4 4 1 3 2 3 3 3 2 2 2 4 0 1 1 0 1 4 4 3 2 3\n",
      " 2 3 1 0 3 4 2 1 0 0 0 4 3 0 4 2 2 3 1 0 4 4 1 2 1 3 1 4 4 0 1 4 2 4 0 4 0\n",
      " 1 2 3 0 1 0 3 3 4 3 4 0 0 1 1 3 0 4 1 4 2 1 2 4 4 3 3 1 1 1 4 1 1 1 4 3 1\n",
      " 0 0 2 2 2 3 2 3 4 2 3 3 1 1 0 4 0 3 0 0 0 3 2 2 1 4 2 0 0 2 2 1 3 3 1 3 0\n",
      " 0 1 4 2 2 2 1 0 0 1 0 0 1 2 4 2 4 2 1 3 0 0 1 4 1 2 4 4 4 3 4 1 2 3 1 3 1\n",
      " 0 0 2 4 1 3 1 1 2 1 4 3 1 2 3 2 0 4 1 4 0 2 2 0 1 2 2 4 4 0 4 1 3 3 2 2 0\n",
      " 4 3 3 1 2 2 4 3 0 3 3 3 3 0 1 4 4 4 0 3 3 2 4 0 4 0 0 4 2 2 2 3 0 2 0 0 1\n",
      " 2 3 0 0 2 4 2 3 0 3 0 1 0 4 1 0 0 1 3 1 4 0 2 1 1 3 2 3 2 2 2 3 1 0 0 0 1\n",
      " 3 4 2 1 0 2 1 4 3 3 4 0 0 2 2 0 0 2 2 3 4 3 2 2 2 2 0 1 3 0 2 1 2 0 2 3 4\n",
      " 3 1 4 3 3 0 2 4 0 4 1 3 2 1 3 0 1 2 1]\n",
      "[[0. 0. 0. 1. 0.]\n",
      " [0. 0. 0. 1. 0.]\n",
      " [0. 0. 0. 0. 1.]\n",
      " ...\n",
      " [0. 1. 0. 0. 0.]\n",
      " [0. 0. 1. 0. 0.]\n",
      " [0. 1. 0. 0. 0.]]\n"
     ]
    }
   ],
   "source": [
    "#one-hot encoding the output labels\n",
    "print(y)\n",
    "y_cat = to_categorical(y, 5)\n",
    "print(y_cat)"
   ]
  },
  {
   "cell_type": "code",
   "execution_count": 25,
   "metadata": {},
   "outputs": [],
   "source": [
    "model = Sequential()\n",
    "model.add(Dense(units = 5, input_shape = (2,), activation = 'softmax'))\n",
    "model.compile(Adam(0.1), loss = 'categorical_crossentropy', metrics = ['accuracy'])"
   ]
  },
  {
   "cell_type": "code",
   "execution_count": 26,
   "metadata": {},
   "outputs": [
    {
     "name": "stdout",
     "output_type": "stream",
     "text": [
      "Epoch 1/100\n",
      "500/500 [==============================] - 0s 127us/step - loss: 1.5379 - accuracy: 0.2680\n",
      "Epoch 2/100\n",
      "500/500 [==============================] - 0s 28us/step - loss: 0.7397 - accuracy: 0.7680\n",
      "Epoch 3/100\n",
      "500/500 [==============================] - 0s 22us/step - loss: 0.4761 - accuracy: 0.8880\n",
      "Epoch 4/100\n",
      "500/500 [==============================] - 0s 25us/step - loss: 0.3674 - accuracy: 0.9300\n",
      "Epoch 5/100\n",
      "500/500 [==============================] - 0s 22us/step - loss: 0.3149 - accuracy: 0.9360\n",
      "Epoch 6/100\n",
      "500/500 [==============================] - 0s 21us/step - loss: 0.2861 - accuracy: 0.9480\n",
      "Epoch 7/100\n",
      "500/500 [==============================] - 0s 21us/step - loss: 0.2643 - accuracy: 0.9520\n",
      "Epoch 8/100\n",
      "500/500 [==============================] - 0s 22us/step - loss: 0.2502 - accuracy: 0.9440\n",
      "Epoch 9/100\n",
      "500/500 [==============================] - 0s 19us/step - loss: 0.2390 - accuracy: 0.9420\n",
      "Epoch 10/100\n",
      "500/500 [==============================] - 0s 23us/step - loss: 0.2287 - accuracy: 0.9520\n",
      "Epoch 11/100\n",
      "500/500 [==============================] - 0s 15us/step - loss: 0.2198 - accuracy: 0.9520\n",
      "Epoch 12/100\n",
      "500/500 [==============================] - 0s 19us/step - loss: 0.2136 - accuracy: 0.9500\n",
      "Epoch 13/100\n",
      "500/500 [==============================] - 0s 24us/step - loss: 0.2074 - accuracy: 0.9460\n",
      "Epoch 14/100\n",
      "500/500 [==============================] - 0s 18us/step - loss: 0.2026 - accuracy: 0.9460\n",
      "Epoch 15/100\n",
      "500/500 [==============================] - 0s 18us/step - loss: 0.1973 - accuracy: 0.9500\n",
      "Epoch 16/100\n",
      "500/500 [==============================] - 0s 22us/step - loss: 0.1934 - accuracy: 0.9500\n",
      "Epoch 17/100\n",
      "500/500 [==============================] - 0s 19us/step - loss: 0.1911 - accuracy: 0.9480\n",
      "Epoch 18/100\n",
      "500/500 [==============================] - 0s 15us/step - loss: 0.1882 - accuracy: 0.9480\n",
      "Epoch 19/100\n",
      "500/500 [==============================] - 0s 24us/step - loss: 0.1843 - accuracy: 0.9500\n",
      "Epoch 20/100\n",
      "500/500 [==============================] - 0s 19us/step - loss: 0.1826 - accuracy: 0.9480\n",
      "Epoch 21/100\n",
      "500/500 [==============================] - 0s 15us/step - loss: 0.1792 - accuracy: 0.9460\n",
      "Epoch 22/100\n",
      "500/500 [==============================] - 0s 22us/step - loss: 0.1777 - accuracy: 0.9460\n",
      "Epoch 23/100\n",
      "500/500 [==============================] - 0s 19us/step - loss: 0.1758 - accuracy: 0.9500\n",
      "Epoch 24/100\n",
      "500/500 [==============================] - 0s 17us/step - loss: 0.1739 - accuracy: 0.9480\n",
      "Epoch 25/100\n",
      "500/500 [==============================] - 0s 22us/step - loss: 0.1719 - accuracy: 0.9500\n",
      "Epoch 26/100\n",
      "500/500 [==============================] - 0s 18us/step - loss: 0.1708 - accuracy: 0.9500\n",
      "Epoch 27/100\n",
      "500/500 [==============================] - 0s 17us/step - loss: 0.1702 - accuracy: 0.9460\n",
      "Epoch 28/100\n",
      "500/500 [==============================] - 0s 23us/step - loss: 0.1680 - accuracy: 0.9480\n",
      "Epoch 29/100\n",
      "500/500 [==============================] - 0s 19us/step - loss: 0.1676 - accuracy: 0.9460\n",
      "Epoch 30/100\n",
      "500/500 [==============================] - 0s 17us/step - loss: 0.1674 - accuracy: 0.9440\n",
      "Epoch 31/100\n",
      "500/500 [==============================] - 0s 18us/step - loss: 0.1659 - accuracy: 0.9480\n",
      "Epoch 32/100\n",
      "500/500 [==============================] - 0s 12us/step - loss: 0.1645 - accuracy: 0.9460\n",
      "Epoch 33/100\n",
      "500/500 [==============================] - 0s 18us/step - loss: 0.1641 - accuracy: 0.9480\n",
      "Epoch 34/100\n",
      "500/500 [==============================] - 0s 13us/step - loss: 0.1656 - accuracy: 0.9500\n",
      "Epoch 35/100\n",
      "500/500 [==============================] - 0s 17us/step - loss: 0.1637 - accuracy: 0.9460\n",
      "Epoch 36/100\n",
      "500/500 [==============================] - 0s 14us/step - loss: 0.1621 - accuracy: 0.9500\n",
      "Epoch 37/100\n",
      "500/500 [==============================] - 0s 16us/step - loss: 0.1614 - accuracy: 0.9480\n",
      "Epoch 38/100\n",
      "500/500 [==============================] - 0s 15us/step - loss: 0.1623 - accuracy: 0.9460\n",
      "Epoch 39/100\n",
      "500/500 [==============================] - 0s 15us/step - loss: 0.1591 - accuracy: 0.9520\n",
      "Epoch 40/100\n",
      "500/500 [==============================] - 0s 14us/step - loss: 0.1603 - accuracy: 0.9460\n",
      "Epoch 41/100\n",
      "500/500 [==============================] - 0s 15us/step - loss: 0.1597 - accuracy: 0.9520\n",
      "Epoch 42/100\n",
      "500/500 [==============================] - 0s 15us/step - loss: 0.1582 - accuracy: 0.9500\n",
      "Epoch 43/100\n",
      "500/500 [==============================] - 0s 15us/step - loss: 0.1585 - accuracy: 0.9480\n",
      "Epoch 44/100\n",
      "500/500 [==============================] - 0s 15us/step - loss: 0.1586 - accuracy: 0.9500\n",
      "Epoch 45/100\n",
      "500/500 [==============================] - 0s 15us/step - loss: 0.1564 - accuracy: 0.9480\n",
      "Epoch 46/100\n",
      "500/500 [==============================] - 0s 15us/step - loss: 0.1573 - accuracy: 0.9520\n",
      "Epoch 47/100\n",
      "500/500 [==============================] - 0s 15us/step - loss: 0.1595 - accuracy: 0.9500\n",
      "Epoch 48/100\n",
      "500/500 [==============================] - 0s 14us/step - loss: 0.1567 - accuracy: 0.9460\n",
      "Epoch 49/100\n",
      "500/500 [==============================] - 0s 16us/step - loss: 0.1570 - accuracy: 0.9520\n",
      "Epoch 50/100\n",
      "500/500 [==============================] - 0s 15us/step - loss: 0.1549 - accuracy: 0.9520\n",
      "Epoch 51/100\n",
      "500/500 [==============================] - 0s 15us/step - loss: 0.1554 - accuracy: 0.9500\n",
      "Epoch 52/100\n",
      "500/500 [==============================] - 0s 15us/step - loss: 0.1553 - accuracy: 0.9500\n",
      "Epoch 53/100\n",
      "500/500 [==============================] - 0s 13us/step - loss: 0.1573 - accuracy: 0.9400\n",
      "Epoch 54/100\n",
      "500/500 [==============================] - 0s 15us/step - loss: 0.1549 - accuracy: 0.9520\n",
      "Epoch 55/100\n",
      "500/500 [==============================] - 0s 15us/step - loss: 0.1548 - accuracy: 0.9520\n",
      "Epoch 56/100\n",
      "500/500 [==============================] - 0s 15us/step - loss: 0.1542 - accuracy: 0.9520\n",
      "Epoch 57/100\n",
      "500/500 [==============================] - 0s 14us/step - loss: 0.1542 - accuracy: 0.9460\n",
      "Epoch 58/100\n",
      "500/500 [==============================] - 0s 15us/step - loss: 0.1548 - accuracy: 0.9500\n",
      "Epoch 59/100\n",
      "500/500 [==============================] - 0s 15us/step - loss: 0.1533 - accuracy: 0.9520\n",
      "Epoch 60/100\n",
      "500/500 [==============================] - 0s 15us/step - loss: 0.1536 - accuracy: 0.9520\n",
      "Epoch 61/100\n",
      "500/500 [==============================] - 0s 13us/step - loss: 0.1544 - accuracy: 0.9460\n",
      "Epoch 62/100\n",
      "500/500 [==============================] - 0s 17us/step - loss: 0.1547 - accuracy: 0.9500\n",
      "Epoch 63/100\n",
      "500/500 [==============================] - 0s 13us/step - loss: 0.1536 - accuracy: 0.9480\n",
      "Epoch 64/100\n",
      "500/500 [==============================] - 0s 17us/step - loss: 0.1535 - accuracy: 0.9480\n",
      "Epoch 65/100\n",
      "500/500 [==============================] - 0s 16us/step - loss: 0.1528 - accuracy: 0.9520\n",
      "Epoch 66/100\n",
      "500/500 [==============================] - 0s 16us/step - loss: 0.1540 - accuracy: 0.9520\n",
      "Epoch 67/100\n",
      "500/500 [==============================] - 0s 15us/step - loss: 0.1542 - accuracy: 0.9480\n",
      "Epoch 68/100\n",
      "500/500 [==============================] - 0s 17us/step - loss: 0.1542 - accuracy: 0.9500\n",
      "Epoch 69/100\n",
      "500/500 [==============================] - 0s 15us/step - loss: 0.1524 - accuracy: 0.9480\n",
      "Epoch 70/100\n",
      "500/500 [==============================] - 0s 16us/step - loss: 0.1538 - accuracy: 0.9500\n",
      "Epoch 71/100\n",
      "500/500 [==============================] - 0s 15us/step - loss: 0.1547 - accuracy: 0.9480\n",
      "Epoch 72/100\n",
      "500/500 [==============================] - 0s 16us/step - loss: 0.1535 - accuracy: 0.9500\n",
      "Epoch 73/100\n",
      "500/500 [==============================] - 0s 16us/step - loss: 0.1526 - accuracy: 0.9520\n",
      "Epoch 74/100\n",
      "500/500 [==============================] - 0s 15us/step - loss: 0.1519 - accuracy: 0.9500\n",
      "Epoch 75/100\n",
      "500/500 [==============================] - 0s 17us/step - loss: 0.1523 - accuracy: 0.9500\n",
      "Epoch 76/100\n",
      "500/500 [==============================] - 0s 15us/step - loss: 0.1523 - accuracy: 0.9500\n",
      "Epoch 77/100\n",
      "500/500 [==============================] - 0s 17us/step - loss: 0.1523 - accuracy: 0.9520\n",
      "Epoch 78/100\n",
      "500/500 [==============================] - 0s 13us/step - loss: 0.1529 - accuracy: 0.9480\n",
      "Epoch 79/100\n",
      "500/500 [==============================] - 0s 17us/step - loss: 0.1531 - accuracy: 0.9480\n",
      "Epoch 80/100\n",
      "500/500 [==============================] - 0s 15us/step - loss: 0.1515 - accuracy: 0.9540\n",
      "Epoch 81/100\n",
      "500/500 [==============================] - 0s 16us/step - loss: 0.1530 - accuracy: 0.9500\n",
      "Epoch 82/100\n",
      "500/500 [==============================] - 0s 14us/step - loss: 0.1522 - accuracy: 0.9500\n",
      "Epoch 83/100\n",
      "500/500 [==============================] - 0s 17us/step - loss: 0.1525 - accuracy: 0.9500\n",
      "Epoch 84/100\n",
      "500/500 [==============================] - 0s 18us/step - loss: 0.1547 - accuracy: 0.9460\n",
      "Epoch 85/100\n",
      "500/500 [==============================] - 0s 20us/step - loss: 0.1521 - accuracy: 0.9500\n",
      "Epoch 86/100\n",
      "500/500 [==============================] - 0s 18us/step - loss: 0.1531 - accuracy: 0.9500\n",
      "Epoch 87/100\n",
      "500/500 [==============================] - 0s 17us/step - loss: 0.1518 - accuracy: 0.9480\n",
      "Epoch 88/100\n",
      "500/500 [==============================] - 0s 16us/step - loss: 0.1539 - accuracy: 0.9500\n",
      "Epoch 89/100\n",
      "500/500 [==============================] - 0s 16us/step - loss: 0.1529 - accuracy: 0.9500\n",
      "Epoch 90/100\n",
      "500/500 [==============================] - 0s 19us/step - loss: 0.1524 - accuracy: 0.9460\n",
      "Epoch 91/100\n",
      "500/500 [==============================] - 0s 18us/step - loss: 0.1512 - accuracy: 0.9520\n",
      "Epoch 92/100\n",
      "500/500 [==============================] - 0s 19us/step - loss: 0.1514 - accuracy: 0.9500\n",
      "Epoch 93/100\n",
      "500/500 [==============================] - 0s 17us/step - loss: 0.1526 - accuracy: 0.9520\n",
      "Epoch 94/100\n",
      "500/500 [==============================] - 0s 17us/step - loss: 0.1510 - accuracy: 0.9500\n",
      "Epoch 95/100\n",
      "500/500 [==============================] - 0s 15us/step - loss: 0.1506 - accuracy: 0.9480\n",
      "Epoch 96/100\n",
      "500/500 [==============================] - 0s 18us/step - loss: 0.1517 - accuracy: 0.9480\n",
      "Epoch 97/100\n",
      "500/500 [==============================] - 0s 16us/step - loss: 0.1538 - accuracy: 0.9460\n",
      "Epoch 98/100\n",
      "500/500 [==============================] - 0s 18us/step - loss: 0.1517 - accuracy: 0.9520\n",
      "Epoch 99/100\n",
      "500/500 [==============================] - 0s 19us/step - loss: 0.1536 - accuracy: 0.9460\n",
      "Epoch 100/100\n",
      "500/500 [==============================] - 0s 17us/step - loss: 0.1514 - accuracy: 0.9500\n"
     ]
    },
    {
     "data": {
      "text/plain": [
       "<keras.callbacks.callbacks.History at 0x139dcca90>"
      ]
     },
     "execution_count": 26,
     "metadata": {},
     "output_type": "execute_result"
    }
   ],
   "source": [
    "model.fit(x = X, y = y_cat, verbose = 1, batch_size = 50, epochs = 100)"
   ]
  },
  {
   "cell_type": "code",
   "execution_count": 27,
   "metadata": {},
   "outputs": [],
   "source": [
    "#declaring function to plot contour zones\n",
    "def plot_decision_boundary(X, y_cat, model):\n",
    "    x_span = np.linspace(min(X[:,0]) - 1, max(X[:,0]) + 1, 50)\n",
    "    y_span = np.linspace(min(X[:,1]) - 1, max(X[:,1]) + 1, 50)\n",
    "    xx, yy = np.meshgrid(x_span, y_span)\n",
    "    xx_, yy_ = xx.ravel(), yy.ravel()\n",
    "    print(xx_)\n",
    "    print(yy_)\n",
    "    grid = np.c_[xx_, yy_]\n",
    "    pred_func = model.predict_classes(grid)\n",
    "    z = pred_func.reshape(xx.shape)\n",
    "    plt.contourf(xx, yy, z)"
   ]
  },
  {
   "cell_type": "code",
   "execution_count": 28,
   "metadata": {},
   "outputs": [
    {
     "name": "stdout",
     "output_type": "stream",
     "text": [
      "[-2.9706717  -2.84833268 -2.72599367 ...  2.77926206  2.90160108\n",
      "  3.02394009]\n",
      "[-2.97723031 -2.97723031 -2.97723031 ...  3.42863169  3.42863169\n",
      "  3.42863169]\n"
     ]
    },
    {
     "data": {
      "text/plain": [
       "<matplotlib.collections.PathCollection at 0x13a155390>"
      ]
     },
     "execution_count": 28,
     "metadata": {},
     "output_type": "execute_result"
    },
    {
     "data": {
      "image/png": "[encoded data removed]",
      "text/plain": [
       "<Figure size 432x288 with 1 Axes>"
      ]
     },
     "metadata": {
      "needs_background": "light"
     },
     "output_type": "display_data"
    }
   ],
   "source": [
    "plot_decision_boundary(X, y_cat, model)\n",
    "plt.scatter(X[y==0, 0], X[y==0, 1])\n",
    "plt.scatter(X[y==1, 0], X[y==1, 1])\n",
    "plt.scatter(X[y==2, 0], X[y==2, 1])\n",
    "plt.scatter(X[y==3, 0], X[y==3, 1])\n",
    "plt.scatter(X[y==4, 0], X[y==4, 1])"
   ]
  },
  {
   "cell_type": "code",
   "execution_count": 29,
   "metadata": {},
   "outputs": [
    {
     "name": "stdout",
     "output_type": "stream",
     "text": [
      "[-2.9706717  -2.84833268 -2.72599367 ...  2.77926206  2.90160108\n",
      "  3.02394009]\n",
      "[-2.97723031 -2.97723031 -2.97723031 ...  3.42863169  3.42863169\n",
      "  3.42863169]\n",
      "Prediction is: [2]\n"
     ]
    },
    {
     "data": {
      "image/png": "[encoded data removed]",
      "text/plain": [
       "<Figure size 432x288 with 1 Axes>"
      ]
     },
     "metadata": {
      "needs_background": "light"
     },
     "output_type": "display_data"
    }
   ],
   "source": [
    "#plotting a point on the decision boundary\n",
    "plot_decision_boundary(X, y_cat, model)\n",
    "plt.scatter(X[y==0, 0], X[y==0, 1])\n",
    "plt.scatter(X[y==1, 0], X[y==1, 1])\n",
    "plt.scatter(X[y==2, 0], X[y==2, 1])\n",
    "plt.scatter(X[y==3, 0], X[y==3, 1])\n",
    "plt.scatter(X[y==4, 0], X[y==4, 1])\n",
    "\n",
    "x = 0.5\n",
    "y = -1\n",
    "\n",
    "point = np.array([[x, y]])\n",
    "prediction = model.predict_classes(point)\n",
    "plt.plot([x], [y], marker = 'o', markersize = 10, color = 'r')\n",
    "print(\"Prediction is:\", prediction)"
   ]
  }
 ],
 "metadata": {
  "kernelspec": {
   "display_name": "Python 3",
   "language": "python",
   "name": "python3"
  },
  "language_info": {
   "codemirror_mode": {
    "name": "ipython",
    "version": 3
   },
   "file_extension": ".py",
   "mimetype": "text/x-python",
   "name": "python",
   "nbconvert_exporter": "python",
   "pygments_lexer": "ipython3",
   "version": "3.7.5"
  }
 },
 "nbformat": 4,
 "nbformat_minor": 4
}

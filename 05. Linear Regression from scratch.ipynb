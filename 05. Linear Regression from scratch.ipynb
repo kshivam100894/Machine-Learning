{
 "cells": [
  {
   "cell_type": "markdown",
   "metadata": {},
   "source": [
    "# Linear Regression:"
   ]
  },
  {
   "cell_type": "markdown",
   "metadata": {},
   "source": [
    "Linear regression is about predicting a <I>real valued target</I> $y$ given a data point $x$. In linear regression we assume that the prediction can be expressed as a linear combination of independent features (thus giving the name <I>linear regression</I>):\n",
    "$$\n",
    "        \\bar y = w_1 \\cdot x_1 + \\dots + w_d \\cdot x_d + b\n",
    "$$\n",
    "\n",
    "Given the collection of data points $\\mathbf{X}$, and corresponding target values $y$ we will try to find the weight vector $w$ and the bias term $b$ (also called the offset or intercept) that approximately associates data points $x_i$ with there correct labels $y_i$. We can express the predictions $\\bar y$ corresponding to a collection of datapoints $\\mathbf{X}$ via the matrix-vector product as:\n",
    "$$\n",
    "        \\bar y = \\mathbf{X}w + b\n",
    "$$"
   ]
  },
  {
   "cell_type": "code",
   "execution_count": 34,
   "metadata": {},
   "outputs": [],
   "source": [
    "#Lets start with importing the libraries\n",
    "from __future__ import print_function\n",
    "import mxnet as mx\n",
    "from mxnet import nd, autograd, gluon\n",
    "import numpy as np\n",
    "mx.random.seed(1)"
   ]
  },
  {
   "cell_type": "markdown",
   "metadata": {},
   "source": [
    "### Set the context\n",
    "In MXNet, we can describe where our data is going to sit and where the operations will take place. We want the data to sit at one place (either a cpu or a gpu) so that the computations take place fast. You can also change the context to `mx.gpu()` if you have a well endowed machine."
   ]
  },
  {
   "cell_type": "code",
   "execution_count": 35,
   "metadata": {},
   "outputs": [],
   "source": [
    "#setting the context, where the calculations will take place\n",
    "data_ctx = mx.cpu()\n",
    "model_ctx = mx.cpu()"
   ]
  },
  {
   "cell_type": "markdown",
   "metadata": {},
   "source": [
    "### Square loss:\n",
    "\n",
    "Now, we need a function to measure the performance of our model. We'll do this by using the square loss function.\n",
    "\n",
    "This function measures how far are our predictions from the correct answers. For simple linear regression we focus on squared error. Our loss will be the sum, over all examples, of the squared error $(y_i - \\bar y_i)^2$ on each:\n",
    "$$\n",
    "        l(y,\\bar y) = \\sum_{i=1}^{n}(\\bar y_i - y_i)^2\n",
    "$$\n",
    "        \n",
    "### Manipulating the model:\n",
    "\n",
    "For us to minimize the error we will need some mechanism to alter the model. We do this by choosing the values of the parameters $w$ and $b$. This is the only job of the learning algorithm.\n",
    "This mechanism, where we estimate the loss using a loss function and then minimise the loss using a learning algorithm, is common across all learning algorithms. \n",
    "\n",
    "Linear regression can be expressed as the simplest possible neural network. A neural network is just a collection of nodes(aka neurons) connected by directed edges. In most networks, we arrange the nodes into layers with each feeding its output into the layer above. To calculate the value of any node, we first perform the weighted sum of the inputs (according to weights $w$) and then apply an activation function. For linear regression, we only have 2 layers, one corresponding to the input and a node layer corresponding to the ouput."
   ]
  },
  {
   "cell_type": "code",
   "execution_count": 36,
   "metadata": {},
   "outputs": [],
   "source": [
    "'''\n",
    "We'll generate a simple synthetic dataset by sampling random data points(x[i]) and corresponding labels(y[i]) in the followig\n",
    "manner. Our inputs will each be sampled from a random normal distribution with mean 0 and variance 1. Our features will be\n",
    "independent. The labels will be generated according to the true labelling function:\n",
    "    y[i] = 2*X[i][0] - 3.4*X[i][1] + 4.2 + noise\n",
    "where the noise is drawn from a random gaussian with mean 0 and variance .01. We can express the labelling function in mathematical\n",
    "notation as follows:\n",
    "    y = X.w + b + n\n",
    "'''\n",
    "num_inputs = 2\n",
    "num_outputs = 1\n",
    "num_examples = 10000\n",
    "\n",
    "def real_fn(X):\n",
    "    return 2 * X[:, 0] - 3.4 * X[:, 1] + 4.2\n",
    "\n",
    "X = nd.random_normal(shape = (num_examples, num_inputs), ctx = data_ctx)\n",
    "noise = 0.1 * nd.random_normal(shape = (num_examples,), ctx = data_ctx)\n",
    "y = real_fn(X) + noise"
   ]
  },
  {
   "cell_type": "markdown",
   "metadata": {},
   "source": [
    "Notice that each row X consists of two data points, and that each row in y consists of a 1-dimensional array value."
   ]
  },
  {
   "cell_type": "code",
   "execution_count": 37,
   "metadata": {},
   "outputs": [
    {
     "name": "stdout",
     "output_type": "stream",
     "text": [
      "\n",
      "[ 0.03629481 -0.4902442 ]\n",
      "<NDArray 2 @cpu(0)>\n",
      "\n",
      "[6.0096445]\n",
      "<NDArray 1 @cpu(0)>\n"
     ]
    }
   ],
   "source": [
    "print(X[0])\n",
    "print(y[0])"
   ]
  },
  {
   "cell_type": "markdown",
   "metadata": {},
   "source": [
    "We can confirm that for any randomly chosen point, a linear combination with the (known) optimal parameters produces a prediction that is indeed close to the target value"
   ]
  },
  {
   "cell_type": "code",
   "execution_count": 38,
   "metadata": {},
   "outputs": [
    {
     "name": "stdout",
     "output_type": "stream",
     "text": [
      "\n",
      "[5.9394197]\n",
      "<NDArray 1 @cpu(0)>\n"
     ]
    }
   ],
   "source": [
    "print(2 * X[0, 0] - 3.4 * X[0, 1] + 4.2)"
   ]
  },
  {
   "cell_type": "markdown",
   "metadata": {},
   "source": [
    "We can visualize the correspondence between our second feature (`X[:, 1]`) and the target values `y` by generating a scatter plot."
   ]
  },
  {
   "cell_type": "code",
   "execution_count": 39,
   "metadata": {},
   "outputs": [
    {
     "data": {
      "image/png": "[encoded data removed]",
      "text/plain": [
       "<Figure size 432x288 with 1 Axes>"
      ]
     },
     "metadata": {
      "needs_background": "light"
     },
     "output_type": "display_data"
    }
   ],
   "source": [
    "import matplotlib.pyplot as plt\n",
    "%matplotlib inline\n",
    "plt.scatter(X[:, 1].asnumpy(), y.asnumpy())\n",
    "plt.show()"
   ]
  },
  {
   "cell_type": "markdown",
   "metadata": {},
   "source": [
    "### Data Iterators:\n",
    "\n",
    "We'll need the iterator to iterate through our data points. We'll also need to grab batches of k data points at a time to\n",
    "shuffle our data. In MXNet, data iterators give us a nice set of utilities for fetching and manipulating data. In particular we'll work with the simple `DataLoader` class, that provides an intuitive way to use an `ArrayDataset` for training models.\n",
    "\n",
    "In MXNet, we can load `X` and `y` into an ArrayDataset, by calling `gluon.data.ArrayDataset(X, y)`. It's ok for `X` to be a multi-dimensional input array (say, of images) and `y` to be just a one-dimensional array of labels. The one requirement is that they have equal lengths along the first axis, i.e., `len(X) == len(y)`.\n",
    "\n",
    "Given an `ArrayDataset`, we can create a Dataloader which will grab random batches of data from an `ArrayDataset`. We'll need to specify 2 arguments. First, we'll need to say the `batch_size`, i.e., how many examples we need to grab at a time. Second, we'll need to specify whether or not to shuffle the data between iterations through the dataset."
   ]
  },
  {
   "cell_type": "code",
   "execution_count": 40,
   "metadata": {},
   "outputs": [],
   "source": [
    "batch_size = 4\n",
    "train_data = gluon.data.DataLoader(gluon.data.ArrayDataset(X, y), batch_size = batch_size, shuffle = 1)"
   ]
  },
  {
   "cell_type": "markdown",
   "metadata": {},
   "source": [
    "Once we've initialized our DataLoader(`train_data`), we can easily fetch batches by iterating over `train_data` just as if it were a python list. First, let's just grab one batch and break out of the loop."
   ]
  },
  {
   "cell_type": "code",
   "execution_count": 41,
   "metadata": {},
   "outputs": [
    {
     "name": "stdout",
     "output_type": "stream",
     "text": [
      "\n",
      "[[-0.32397285 -0.2977011 ]\n",
      " [-1.2810212  -0.5196491 ]\n",
      " [-1.3990183  -1.8585796 ]\n",
      " [ 0.238371   -0.443693  ]]\n",
      "<NDArray 4x2 @cpu(0)> \n",
      "[4.573771  3.4440975 7.6991553 6.02567  ]\n",
      "<NDArray 4 @cpu(0)>\n"
     ]
    },
    {
     "data": {
      "text/plain": [
       "'\\nNote that here the input has a shape of 4*2 for a mini-batch of size 4.\\n'"
      ]
     },
     "execution_count": 41,
     "metadata": {},
     "output_type": "execute_result"
    }
   ],
   "source": [
    "for i, (data, label) in enumerate(train_data):\n",
    "    print(data, label)\n",
    "    break\n",
    "\n",
    "\n",
    "#Note that here the input has a shape of 4*2 for a mini-batch of size 4."
   ]
  },
  {
   "cell_type": "markdown",
   "metadata": {},
   "source": [
    "Finally, if we pass over the entire dataset, and count the number of batches, we'll find that there are 2500 batches. We expect this because\n",
    "our dataset has 10,000 examples and we configured the `DataLoader` with a batch size of 4."
   ]
  },
  {
   "cell_type": "code",
   "execution_count": 42,
   "metadata": {},
   "outputs": [
    {
     "name": "stdout",
     "output_type": "stream",
     "text": [
      "2500\n"
     ]
    }
   ],
   "source": [
    "for i, (data, label) in enumerate(train_data):\n",
    "    pass\n",
    "\n",
    "print(i + 1)"
   ]
  },
  {
   "cell_type": "markdown",
   "metadata": {},
   "source": [
    "### Model Parameters:\n",
    "\n",
    "Now let's allocate some memory for our parameters and set there initial values. We'll want to initialize these parameters on the `model_ctx`."
   ]
  },
  {
   "cell_type": "code",
   "execution_count": 43,
   "metadata": {},
   "outputs": [
    {
     "name": "stdout",
     "output_type": "stream",
     "text": [
      "(2, 1)\n",
      "(1,)\n"
     ]
    }
   ],
   "source": [
    "w = nd.random_normal(shape = (num_inputs, num_outputs), ctx = model_ctx)\n",
    "b = nd.random_normal(shape = num_outputs)\n",
    "params = [w, b]\n",
    "params\n",
    "print(params[0].shape)\n",
    "print(params[1].shape)"
   ]
  },
  {
   "cell_type": "markdown",
   "metadata": {},
   "source": [
    "In the following cells, we are going to update these parameters to better fit our data. As discusssed in the theory section, this will involve\n",
    "taking the gradient (a multi-dimensional derivative) of some <I>loss function</I> with respect to the parameters. We'll update each parameter in the\n",
    "direction which minimises the loss. But first, let's allocate some memory for each gradient."
   ]
  },
  {
   "cell_type": "code",
   "execution_count": 44,
   "metadata": {},
   "outputs": [],
   "source": [
    "for param in params:\n",
    "    param.attach_grad()"
   ]
  },
  {
   "cell_type": "markdown",
   "metadata": {},
   "source": [
    "Now, we'll want to define our model. In this case, we'll be working with linear models, the simplest possible useful neural network. To calculate\n",
    "the output of the linear model, we simply multiply a given input with model's weights(`w`), and add the offset `b`."
   ]
  },
  {
   "cell_type": "code",
   "execution_count": 45,
   "metadata": {},
   "outputs": [],
   "source": [
    "def net(X):\n",
    "    return mx.nd.dot(X,w) + b"
   ]
  },
  {
   "cell_type": "markdown",
   "metadata": {},
   "source": [
    "Now, we will be defining the cost function (MSE) in order to check the performance of our model."
   ]
  },
  {
   "cell_type": "code",
   "execution_count": 46,
   "metadata": {},
   "outputs": [],
   "source": [
    "def square_loss(y_hat, y):\n",
    "    return nd.mean((y_hat - y)**2)"
   ]
  },
  {
   "cell_type": "markdown",
   "metadata": {},
   "source": [
    "As we know from the previous discussions, we'll be updating the weights according to the eqn:\n",
    "$$\\begin{eqnarray}\n",
    "        w_k &\\to& w_k' &=& w_k - \\frac {\\eta}{m} \\sum_j \\frac {\\partial C_{X_j}}{\\partial w_k}\\\\\n",
    "        b_l &\\to& b_l' &=& b_l - \\frac {\\eta}{m} \\sum_j \\frac {\\partial C_{X_j}}{\\partial b_l}\n",
    "\\end{eqnarray}\n",
    "$$\n",
    "\n",
    "I will be solving the problem using two methods:\n",
    "1. Hard coding the function to update the weights.\n",
    "2. Using the MXNet in-built library function 'autograd'."
   ]
  },
  {
   "cell_type": "markdown",
   "metadata": {},
   "source": [
    "### 1. Updating weights with hardcoding:"
   ]
  },
  {
   "cell_type": "markdown",
   "metadata": {},
   "source": [
    "As we know, the cost function that we are using to estimate the loss is the Mean Squared Error function:\n",
    "$$\n",
    "        l(\\bar y, y) = \\frac {1}{N} \\sum_i(\\bar y_i - y_i)^2\n",
    "$$\n",
    "        \n",
    "Now, in our case $\\bar y$ has the form: $\\bar y = w_1x_1 + w_2x_2 + b$.\n",
    "\n",
    "Thus our loss function becomes:\n",
    "$$\n",
    "       l = \\frac{1}{N} \\sum_i((w_1x_{1_i} + w_2x_{2_i} + b) - y_i)^2\n",
    "$$\n",
    "\n",
    "In accordance with the weight updation rule, lets calculate the partial derivatives with respect to the weights and bias:\n",
    "$$\\begin{eqnarray}\n",
    "       l' = \\left[ \\begin{matrix}\n",
    "                       \\frac {\\partial l} {\\partial w_1}\\\\\n",
    "                       \\frac {\\partial l} {\\partial w_2}\\\\\n",
    "                       \\frac {\\partial l} {\\partial b}\n",
    "                   \\end{matrix}\n",
    "             \\right]\n",
    "          &=& \\left[ \\begin{matrix}\n",
    "                          \\frac{1}{N} \\sum x_{1_i} \\cdot 2((w_1x_{1_i} + w_2x_{2_i} + b) - y_i)\\\\\n",
    "                          \\frac{1}{N} \\sum x_{2_i} \\cdot 2((w_1x_{1_i} + w_2x_{2_i} + b) - y_i)\\\\\n",
    "                          \\frac{1}{N} \\sum 1 \\cdot 2((w_1x_{1_i} + w_2x_{2_i} + b) - y_i)\n",
    "                      \\end{matrix}\n",
    "              \\right]\\\\\n",
    "          &=& \\left[ \\begin{matrix}\n",
    "                          \\frac{1}{N} \\sum 2x_{1_i} ((w_1x_{1_i} + w_2x_{2_i} + b) - y_i)\\\\\n",
    "                          \\frac{1}{N} \\sum 2x_{2_i} ((w_1x_{1_i} + w_2x_{2_i} + b) - y_i)\\\\\n",
    "                          \\frac{1}{N} \\sum  2((w_1x_{1_i} + w_2x_{2_i} + b) - y_i)\n",
    "                      \\end{matrix}\n",
    "              \\right]\n",
    "\\end{eqnarray}\n",
    "$$\n",
    "\n",
    "Now, once we have the gradients calculated we'll update the weights by subtracting the learning rate times the gradient value at the end of each epoch. This process will be repeated again and again unless the loss is minimised.\n",
    "\n",
    "We can either hard code the gradient formulas into our code for each weight and bias. However, a smart way to go about it would be to use matrix multiplication so that the calculation can be done efficiently and with less lines of code.\n",
    "\n",
    "As we have generated our data such that it has two independent variables. Let's call them $x_1$ & $x_2$.\n",
    "Let's say we have a matrix of features as: \n",
    "$$\n",
    "X = [x_1 \\; x_2 \\; 1] = \\left[ \\begin{matrix}\n",
    "                                    x_{11} & x_{21} & 1\\\\\n",
    "                                    x_{12} & x_{22} & 1\\\\\n",
    "                                    x_{13} & x_{23} & 1\\\\\n",
    "                                    x_{14} & x_{24} & 1\n",
    "                                \\end{matrix}\n",
    "                         \\right]\n",
    "$$ \n",
    "\n",
    "Since we are generating mini-batches of size 4, hence the shape of this matrix would be 4\\*3.\n",
    "\n",
    "Also, we have an $\\nabla error = (\\bar y_i - y_i)$. For a mini-batch of size 4, this will output a matrix of 4\\*1.\n",
    "\n",
    "Thus if we take the dot product of the transpose of the input vector matrix as defined above and the error term we will get a matrix which will contain the derivatives:\n",
    "$$\n",
    "        derivs = \\frac{2}{N} (X^T \\cdot error), \n",
    "$$\n",
    "\n",
    "where $X$ has a shape 4\\*3, $error$ has a shape 4\\*1, $N$ is the batch_size which is 4 and the output, $derivs$ will have a shape of 3\\*1 containing partial derivatives for each of the weights and bias.\n",
    "        \n",
    "Note that I have appended a 1 in the input matrix $X$ to account for the bias term.\n",
    "\n",
    "We'll be implementing this a little differently to account for the structure of the params.\n",
    "Remember, the params is a list containing $w$ and $b$, hence we'll calculate the gradients for weights and bias separately as it will be easier to update the weights in this manner."
   ]
  },
  {
   "cell_type": "code",
   "execution_count": 47,
   "metadata": {},
   "outputs": [],
   "source": [
    "def update_weights(X, y, params, lr):\n",
    "    #calculating the error term\n",
    "    error = (y-net(X))\n",
    "    \n",
    "    #X contains [x1 x2]. Hence d_w will have the partial derivatives for w1 and w1 as [d_w1 d_w2].\n",
    "    d_w = (2/batch_size)*mx.nd.dot(-X.T, error)\n",
    "    \n",
    "    #calculating the partial derivative for the bias.\n",
    "    d_b = -2*nd.mean(error)\n",
    "    \n",
    "    derivs = [d_w, d_b]\n",
    "    #updating the weights by subtracting the learning rate times the gradient\n",
    "    for param, deriv in zip(params, derivs):\n",
    "        #the '[:]' notation is a utility provided by MXNet which helps us update the values in the original variable.\n",
    "        param[:] = param - lr*deriv"
   ]
  },
  {
   "cell_type": "markdown",
   "metadata": {},
   "source": [
    "Now that we have all the pieces defined, we just need to wire them together by writing a training loop. First we'll define `epochs`, the \n",
    "number of passes to make over the dataset. Then for each pass we'll iterate through train data, grabbing batches of examples and their \n",
    "corresponding labels.\n",
    "\n",
    "For each batch, we'll go through the following ritual:\n",
    "1. Generate predictions ($\\bar y$) and the loss by executing a forward pass through the network.\n",
    "2. Calculate gradients and update the weights and bias by making a call to `update_weights`."
   ]
  },
  {
   "cell_type": "code",
   "execution_count": 48,
   "metadata": {},
   "outputs": [
    {
     "name": "stdout",
     "output_type": "stream",
     "text": [
      "Epoch 0, batch 2499. Mean loss: 29.295440874063967\n",
      "Epoch 1, batch 2499. Mean loss: 10.714721115881204\n",
      "Epoch 2, batch 2499. Mean loss: 3.9233919839300215\n",
      "Epoch 3, batch 2499. Mean loss: 1.4409156888142227\n",
      "Epoch 4, batch 2499. Mean loss: 0.533395497810468\n",
      "Epoch 5, batch 2499. Mean loss: 0.20159582052256447\n",
      "Epoch 6, batch 2499. Mean loss: 0.0802109730640892\n",
      "Epoch 7, batch 2499. Mean loss: 0.03577849310876336\n",
      "Epoch 8, batch 2499. Mean loss: 0.019532057394934237\n",
      "Epoch 9, batch 2499. Mean loss: 0.013601328360976186\n"
     ]
    }
   ],
   "source": [
    "epochs = 10\n",
    "learning_rate = 0.0001\n",
    "num_batches = num_examples/batch_size\n",
    "losses = []\n",
    "\n",
    "for e in range(epochs):\n",
    "    cumulative_loss = 0\n",
    "    for i, (data, label) in enumerate(train_data):\n",
    "        data = data.as_in_context(model_ctx)\n",
    "        label = label.as_in_context(model_ctx).reshape((-1, 1))\n",
    "        output = net(data)\n",
    "        loss = square_loss(output, label)\n",
    "        update_weights(data, label, params, learning_rate)\n",
    "        cumulative_loss += loss.asscalar()\n",
    "    print(\"Epoch %s, batch %s. Mean loss: %s\" % (e, i, cumulative_loss/num_batches))\n",
    "    losses.append(cumulative_loss/num_batches)\n"
   ]
  },
  {
   "cell_type": "code",
   "execution_count": 49,
   "metadata": {},
   "outputs": [],
   "source": [
    "#Script to plot the losses over time\n",
    "def plot(losses, X, sample_size = 100):\n",
    "    xs = list(range(len(losses)))\n",
    "    f, (fg1, fg2) = plt.subplots(1, 2)\n",
    "    fg1.set_title('Loss during training')\n",
    "    fg1.plot(xs, losses, '-r')\n",
    "    fg2.set_title('Estimated vs real function')\n",
    "    fg2.plot(X[:sample_size, 1].asnumpy(),\n",
    "            net(X[:sample_size, :]).asnumpy(), 'or', label = 'Estimated')\n",
    "    fg2.plot(X[:sample_size, 1].asnumpy(),\n",
    "            real_fn(X[:sample_size, :]).asnumpy(), '*g', label = 'Real')\n",
    "    fg2.legend()\n",
    "    plt.show()"
   ]
  },
  {
   "cell_type": "code",
   "execution_count": 50,
   "metadata": {},
   "outputs": [
    {
     "data": {
      "image/png": "[encoded data removed]",
      "text/plain": [
       "<Figure size 432x288 with 2 Axes>"
      ]
     },
     "metadata": {
      "needs_background": "light"
     },
     "output_type": "display_data"
    },
    {
     "name": "stdout",
     "output_type": "stream",
     "text": [
      "[\n",
      "[[ 1.9825695]\n",
      " [-3.3635404]]\n",
      "<NDArray 2x1 @cpu(0)>, \n",
      "[4.1782465]\n",
      "<NDArray 1 @cpu(0)>]\n"
     ]
    }
   ],
   "source": [
    "#visualizing the loss and predictions\n",
    "plot(losses, X)\n",
    "print(params)"
   ]
  },
  {
   "cell_type": "markdown",
   "metadata": {},
   "source": [
    "### 2. Updating weights using MXNet in-built library function `autograd()`:\n",
    "\n",
    "Now we will be defining the stochastic gradient descent algorithm for updating the weights. As discussed earlier, we will first calculate the\n",
    "gradient of the loss for a mini-batch with respect to the weights. Then, we'll update our parameters a small amount in the direction that reduces\n",
    "the loss. The size of the step is determined by the `learning rate`, lr."
   ]
  },
  {
   "cell_type": "code",
   "execution_count": 51,
   "metadata": {},
   "outputs": [],
   "source": [
    "def SGD(params, lr):\n",
    "    for param in params:\n",
    "        param[:] = param - lr*param.grad"
   ]
  },
  {
   "cell_type": "markdown",
   "metadata": {},
   "source": [
    "For each batch, we'll go through the following ritual:\n",
    "1. Generate predictions (`yhat`) and the loss (`loss`) by executing a forward pass through the network.\n",
    "2. Calculate gradients by making backwards pass through the network (`loss.backward`).\n",
    "3. Update the model parameters by invoking our SGD optimizer."
   ]
  },
  {
   "cell_type": "code",
   "execution_count": 52,
   "metadata": {},
   "outputs": [
    {
     "name": "stdout",
     "output_type": "stream",
     "text": [
      "Epoch 0, batch 2499. Mean loss: 22.319529047417642\n",
      "Epoch 1, batch 2499. Mean loss: 8.143442739459871\n",
      "Epoch 2, batch 2499. Mean loss: 2.9753438791543245\n",
      "Epoch 3, batch 2499. Mean loss: 1.091301687482372\n",
      "Epoch 4, batch 2499. Mean loss: 0.4044055913154036\n",
      "Epoch 5, batch 2499. Mean loss: 0.1539398751651868\n",
      "Epoch 6, batch 2499. Mean loss: 0.06260263044489547\n",
      "Epoch 7, batch 2499. Mean loss: 0.029294488492538222\n",
      "Epoch 8, batch 2499. Mean loss: 0.017143411401711637\n",
      "Epoch 9, batch 2499. Mean loss: 0.012711065220230376\n"
     ]
    }
   ],
   "source": [
    "#Re-initializing the parameters because they were already trained in the earlier training process\n",
    "w[:] = nd.random_normal(shape = (num_inputs, num_outputs), ctx = model_ctx)\n",
    "b[:] = nd.random_normal(shape = num_outputs)\n",
    "\n",
    "\n",
    "losses_m = []\n",
    "\n",
    "\n",
    "for e in range(epochs):\n",
    "    cumulative_loss = 0\n",
    "    #inner loop\n",
    "    for i, (data, label) in enumerate(train_data):\n",
    "        data = data.as_in_context(model_ctx)\n",
    "        label = label.as_in_context(model_ctx).reshape((-1, 1))\n",
    "        with autograd.record():\n",
    "            output_m = net(data)\n",
    "            loss_m = square_loss(output_m, label)\n",
    "        loss_m.backward()\n",
    "        SGD(params, learning_rate)\n",
    "        cumulative_loss += loss_m.asscalar()\n",
    "    print(\"Epoch %s, batch %s. Mean loss: %s\" % (e, i, cumulative_loss/num_batches))\n",
    "    losses_m.append(cumulative_loss/num_batches)"
   ]
  },
  {
   "cell_type": "code",
   "execution_count": 53,
   "metadata": {},
   "outputs": [
    {
     "data": {
      "image/png": "[encoded data removed]",
      "text/plain": [
       "<Figure size 432x288 with 2 Axes>"
      ]
     },
     "metadata": {
      "needs_background": "light"
     },
     "output_type": "display_data"
    },
    {
     "name": "stdout",
     "output_type": "stream",
     "text": [
      "[\n",
      "[[ 1.9786812]\n",
      " [-3.3756635]]\n",
      "<NDArray 2x1 @cpu(0)>, \n",
      "[4.1779666]\n",
      "<NDArray 1 @cpu(0)>]\n"
     ]
    }
   ],
   "source": [
    "plot(losses_m, X)\n",
    "print(params)"
   ]
  },
  {
   "cell_type": "markdown",
   "metadata": {},
   "source": [
    "As can be seen that both the algorithms give us similar results. I have solved the problem using both from `scratch algorithm` and `MXNet's autograd()` utility to demonstrate the usefulness of MXNet. As we go further we'll see how easy does MXNet make to implement deep neural networks from scratch."
   ]
  }
 ],
 "metadata": {
  "kernelspec": {
   "display_name": "Python 3",
   "language": "python",
   "name": "python3"
  },
  "language_info": {
   "codemirror_mode": {
    "name": "ipython",
    "version": 3
   },
   "file_extension": ".py",
   "mimetype": "text/x-python",
   "name": "python",
   "nbconvert_exporter": "python",
   "pygments_lexer": "ipython3",
   "version": "3.7.5"
  }
 },
 "nbformat": 4,
 "nbformat_minor": 4
}

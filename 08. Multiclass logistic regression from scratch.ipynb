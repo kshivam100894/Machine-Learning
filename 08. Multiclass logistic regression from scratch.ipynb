{
 "cells": [
  {
   "cell_type": "markdown",
   "metadata": {},
   "source": [
    "# Multiclass Logistic Regression:"
   ]
  },
  {
   "cell_type": "markdown",
   "metadata": {},
   "source": [
    "In the previous chapter, we introduced logistic regression, a classic algorithm for performing binary classification. We implemented the model:\n",
    "$$\n",
    "    \\bar y = \\sigma (xw^T + b), where\\; \\sigma \\; is\\;the\\;sigmoid\\;squashing\\;function\n",
    "$$\n",
    "\n",
    "This activation function on the final layer was crucial because it forced our outputs to take values in the range $[0, 1]$. That allowed us to interpret these outputs as probabilities. We then updated our parameters to give the true labels (which take values either 1 or 0) the highest probability.\n",
    "\n",
    "Binary classification is quite useful. We can use it to predict spam vs. not spam or cancer vs not cancer. But not every problem fits the mold of binary classification. Sometimes we encounter a problem where each example could belong to one of $k$ classes. \n",
    "Given $k$ classes, the most naive way to solve a multiclass classification problem is to train $k$ different binary classifiers $f_i(x)$.\n",
    "We could then predict that an example $x$ belongs to the class $i$ for which the probability that the label applies is the highest: \n",
    "$$\n",
    "\\underset{i}{max}\\;f_i(x)\n",
    "$$\n",
    "\n",
    "The smarter way to go about this is to force the output layer to be a discrete probability distribution over $k$ classes.\n",
    "To be a valid probability distribution we would want the output $\\bar y$ to:\n",
    "1. Contain only non- negative values.\n",
    "2. Sum to 1.\n",
    "    \n",
    "We accomplish this by using the <I><b>softmax</b></I> function. Given an input vector $z$, softmax does two things. First, it exponentiates (elementwise) $e^z$, forcing all the values to be strictly positive. Then it normalizes so that all values sum to 1. Following the softmax operation computes the following:\n",
    "$$\n",
    "    softmax(z) = \\frac{e^z}{\\sum_{i=1}^k e^{z_i}}\n",
    "$$\n",
    "\n",
    "We'll need weights to connect each of our inputs to each of our k outputs.\n",
    "The weights can be represented one for each input and output node pair in a matrix $W$.\n",
    "We generate the linear mapping from inputs to outputs via matrix-vector product $xW + b$.\n",
    "Note that bias term ($b$) is now a vector, with one component for each output node.\n",
    "The multiclass classification model can be written as:\n",
    "$$\n",
    "    \\bar y = softmax(xW + b)\n",
    "$$\n",
    "\n",
    "This model is sometimes called the <I> multiclass logistic regression</I>. Other names for it include <I>softmax regression</I> and <I> multinomila regression</I>. For these concepts to sink in lets actually implement softmax regression. We will be using the multiclass classification model to classify hand-written digits this time."
   ]
  },
  {
   "cell_type": "markdown",
   "metadata": {},
   "source": [
    "Note:\n",
    "In mathematical notation we represent vectors with lower case alphabets and matrices with upper case alphabets.\n",
    "\n",
    "### Batch Training:\n",
    "\n",
    "Let's assume we have $d$ inputs and $k$ outputs. So the shapes of various variables explicitly would be:\n",
    "$$\n",
    "    \\underset {1\\times k}{z} = \\underset {1\\times d}{x} \\cdot \\underset{d \\times k} {W} + \\underset{1 \\times k} {b}\n",
    "$$\n",
    "    \n",
    "We will be one hot encoding our output labels, for example $\\bar y = 5$ would be $\\bar y_{one-hot} = [0,0,0,0,1,0,0,0,0,0]$ when one-hot encoded for a 10-class classification problem.\n",
    "    \n",
    "So $\\bar y = softmax(z)$ becomes:\n",
    "$$\n",
    "   \\underset {1\\times k}{\\bar y_{one-hot}} = softmax_{one-hot}(\\underset {1\\times k} {z})\n",
    "$$\n",
    "    \n",
    "Suppose if we input a batch of m training examples, we would have a matrix $\\underset {m \\times d}{X}$ that is vertical stacking of individual training examples $x_i$.\n",
    "\n",
    "$$\n",
    "    X = \\left[ \\begin{matrix}\n",
    "                x_1\\\\\n",
    "                x_2\\\\\n",
    "                \\vdots \\\\\n",
    "                x_m\n",
    "               \\end{matrix}\n",
    "         \\right]\n",
    "      = \\left[ \\begin{matrix}\n",
    "                  x_{11} & x_{12} & \\dots & x_{1d}\\\\\n",
    "                  x_{21} & x_{22} & \\dots & x_{2d}\\\\\n",
    "                  \\vdots & \\vdots & \\ddots & \\vdots\\\\\n",
    "                  x_{m1} & x_{m2} & \\dots & x_{md}\n",
    "                \\end{matrix}\n",
    "        \\right]\n",
    "$$\n",
    "\n",
    "Under this batch training situation, $\\bar y_{one-hot} = softmax(z)$ turns into:\n",
    "$$\n",
    "    Y = softmax(Z) = softmax(XW + B)\n",
    "$$\n",
    "    \n",
    "where matrix $\\underset {m \\times k}{B}$ is formed by having $m$ copies of $b$ as follows:\n",
    "$$\n",
    "    B = \\left[ \\begin{matrix}\n",
    "                    b\\\\\n",
    "                    b\\\\\n",
    "                    \\vdots \\\\\n",
    "                    b\n",
    "                \\end{matrix}\n",
    "         \\right]\n",
    "      = \\left[ \\begin{matrix}\n",
    "                  b_1 & b_2 & \\dots & b_k\\\\\n",
    "                  b_1 & b_2 & \\dots & b_k\\\\\n",
    "                  \\vdots & \\vdots & \\ddots & \\vdots\\\\\n",
    "                  b_1 & b_2 & \\dots & b_k\n",
    "                \\end{matrix}\n",
    "         \\right]\n",
    "$$\n",
    "\n",
    "Each row of matrix $ \\underset {m \\times k}{Z}$ corresponds to one training example. The softmax function operates on each row of matrix $Z$ and returns a matrix $\\underset {m \\times k}{Y}$, each row of which corresponds to the one-hot encoded prediction of one training example."
   ]
  },
  {
   "cell_type": "code",
   "execution_count": 2,
   "metadata": {},
   "outputs": [],
   "source": [
    "#importing the libraries\n",
    "from __future__ import print_function\n",
    "import mxnet as mx\n",
    "import numpy as np\n",
    "from mxnet import nd, autograd, gluon\n",
    "mx.random.seed(1)"
   ]
  },
  {
   "cell_type": "code",
   "execution_count": 3,
   "metadata": {},
   "outputs": [],
   "source": [
    "#setting the compute context using MXNet\n",
    "#Feel free to change model_ctx to mx.gpu() if you have a well endowed machine\n",
    "data_ctx = mx.cpu()\n",
    "model_ctx = mx.cpu()\n",
    "#model_ctx = mx.gpu()"
   ]
  },
  {
   "cell_type": "markdown",
   "metadata": {},
   "source": [
    "We are going to work with 28*28 centrally cropped black and white photograph of a hand-written digit.\n",
    "We'll use MXNet's utility to grab a copy of the dataset.\n",
    "The datasets accept a transform callback that can preprocess each item.\n",
    "Cast data and label to floats and normalize data to range $[0,1]$.\n",
    "We'll be using the test data for determining the accuracy of the model."
   ]
  },
  {
   "cell_type": "code",
   "execution_count": 4,
   "metadata": {},
   "outputs": [],
   "source": [
    "def transform(data, label):\n",
    "    return data.astype(np.float32)/255, label.astype(np.float32)\n",
    "mnist_train = gluon.data.vision.MNIST(train=1, transform = transform)\n",
    "mnist_test = gluon.data.vision.MNIST(train=0, transform = transform)"
   ]
  },
  {
   "cell_type": "markdown",
   "metadata": {},
   "source": [
    "There are 2 parts of dataset for train and test. Each part has N items and each item is a tuple of an image and label:"
   ]
  },
  {
   "cell_type": "code",
   "execution_count": 5,
   "metadata": {},
   "outputs": [
    {
     "name": "stdout",
     "output_type": "stream",
     "text": [
      "(28, 28, 1) 5.0\n"
     ]
    }
   ],
   "source": [
    "image, label = mnist_train[0]\n",
    "print(image.shape, label)"
   ]
  },
  {
   "cell_type": "markdown",
   "metadata": {},
   "source": [
    "Note that each image is formatted as a 3-tuple: (height, width, channel). For colored images, the channel would have 3 parameters: (Red, Green and Blue)"
   ]
  },
  {
   "cell_type": "code",
   "execution_count": 6,
   "metadata": {},
   "outputs": [
    {
     "name": "stdout",
     "output_type": "stream",
     "text": [
      "60000\n",
      "784\n"
     ]
    }
   ],
   "source": [
    "print(len(mnist_train))\n",
    "print(28*28)"
   ]
  },
  {
   "cell_type": "code",
   "execution_count": 7,
   "metadata": {},
   "outputs": [],
   "source": [
    "num_inputs = 784\n",
    "num_outputs = 10\n",
    "num_examples = 60000"
   ]
  },
  {
   "cell_type": "markdown",
   "metadata": {},
   "source": [
    "Machine learning libraries generally expect to get images in (batch, channel, height, width) format. However, most libraries for visualization prefer (height, width, channel). matplolib expects (height, width) or (height, width, channel) with RGB channels, so let's broadcast our single channel to 3."
   ]
  },
  {
   "cell_type": "code",
   "execution_count": 8,
   "metadata": {},
   "outputs": [
    {
     "name": "stdout",
     "output_type": "stream",
     "text": [
      "(28, 28, 3)\n"
     ]
    }
   ],
   "source": [
    "im = mx.nd.tile(image, (1, 1, 3))\n",
    "print(im.shape)"
   ]
  },
  {
   "cell_type": "code",
   "execution_count": 9,
   "metadata": {},
   "outputs": [
    {
     "data": {
      "image/png": "[encoded data removed]",
      "text/plain": [
       "<Figure size 432x288 with 1 Axes>"
      ]
     },
     "metadata": {
      "needs_background": "light"
     },
     "output_type": "display_data"
    }
   ],
   "source": [
    "%matplotlib inline\n",
    "import matplotlib.pyplot as plt\n",
    "plt.imshow(im.asnumpy())\n",
    "plt.show()"
   ]
  },
  {
   "cell_type": "code",
   "execution_count": 10,
   "metadata": {},
   "outputs": [],
   "source": [
    "#loading images into a data iterator\n",
    "batch_size = 64\n",
    "train_data = mx.gluon.data.DataLoader(mnist_train, batch_size, shuffle = 1)"
   ]
  },
  {
   "cell_type": "code",
   "execution_count": 11,
   "metadata": {},
   "outputs": [],
   "source": [
    "#loading iterator for the test_data\n",
    "test_data = mx.gluon.data.DataLoader(mnist_test, batch_size, shuffle = 0)"
   ]
  },
  {
   "cell_type": "markdown",
   "metadata": {},
   "source": [
    "We will flatten each image into a single 1D vector with 28\\*28 = 784 components\n",
    "because our task is multiclass classification we will want to assign a probability to each of the classes $P(y = C|X)$ given the input $X$.\n",
    "In order to do this we are going to need one vector of 784 weights for each class, connecting each feature to the corresponding output.\n",
    "We'll also allocate one offset, called bias, for each of the outputs."
   ]
  },
  {
   "cell_type": "code",
   "execution_count": 12,
   "metadata": {},
   "outputs": [],
   "source": [
    "W = nd.random_normal(shape = (num_inputs, num_outputs), ctx = model_ctx)\n",
    "b = nd.random_normal(shape = num_outputs, ctx = model_ctx)\n",
    "\n",
    "params = [W,b]"
   ]
  },
  {
   "cell_type": "code",
   "execution_count": 13,
   "metadata": {},
   "outputs": [],
   "source": [
    "#we need to let MXNet know we'll be expecting gradients corresponding to each of these parameters during training\n",
    "for param in params:\n",
    "    param.attach_grad()"
   ]
  },
  {
   "cell_type": "markdown",
   "metadata": {},
   "source": [
    "We are going to linearly map our input $X$ onto 10 different real valued outputs `y_linear`.\n",
    "Then, before outputting these values, we'll want to normalize them so that they are non-negative and sum to 1.\n",
    "This normalization allows us to interpret the output $\\bar y$ as valid probability distibution."
   ]
  },
  {
   "cell_type": "code",
   "execution_count": 14,
   "metadata": {},
   "outputs": [],
   "source": [
    "def softmax(y_linear):\n",
    "    exp = nd.exp(y_linear - nd.max(y_linear, axis = 1).reshape((-1,1)))\n",
    "    norms = nd.sum(exp, axis = 1).reshape((-1,1))\n",
    "    return exp/norms"
   ]
  },
  {
   "cell_type": "code",
   "execution_count": 15,
   "metadata": {},
   "outputs": [
    {
     "name": "stdout",
     "output_type": "stream",
     "text": [
      "\n",
      "[[0.38854712 0.15868284 0.09794893 0.01202093 0.01595045 0.04553349\n",
      "  0.14224595 0.0314311  0.04231628 0.06532289]\n",
      " [0.08514825 0.43826103 0.02771222 0.08836042 0.17408127 0.05132056\n",
      "  0.02093019 0.06935012 0.03025253 0.01458343]]\n",
      "<NDArray 2x10 @cpu(0)>\n"
     ]
    }
   ],
   "source": [
    "sample_y_linear = nd.random_normal(shape = (2,10))\n",
    "sample_yhat = softmax(sample_y_linear)\n",
    "print(sample_yhat)"
   ]
  },
  {
   "cell_type": "code",
   "execution_count": 16,
   "metadata": {},
   "outputs": [
    {
     "name": "stdout",
     "output_type": "stream",
     "text": [
      "\n",
      "[1. 1.]\n",
      "<NDArray 2 @cpu(0)>\n"
     ]
    }
   ],
   "source": [
    "#confirming that the rows sum to 1\n",
    "print(nd.sum(sample_yhat, axis = 1))"
   ]
  },
  {
   "cell_type": "code",
   "execution_count": 17,
   "metadata": {},
   "outputs": [],
   "source": [
    "def net(X):\n",
    "    y_linear = nd.dot(X,W) + b\n",
    "    yhat = softmax(y_linear)\n",
    "    return yhat"
   ]
  },
  {
   "cell_type": "markdown",
   "metadata": {},
   "source": [
    "### The cross-entropy loss Funtion:\n",
    "\n",
    "The cost function being used here is called Cross Entropy:\n",
    "The basic idea is that we are going to take a target $Y$ that has been formatted as a one-hot vector, meaning one value\n",
    "corresponding to the correct label is set to 1 and others are set to 0, \n",
    "eg: $[0,1,0,0,0,0,0,0,0,0]$\n",
    "\n",
    "The basic idea of cross entropy loss is that we only care about how much probability is assigned to the correct label.\n",
    "In other words, we only care about the component of yhat assigned to label 2.\n",
    "Cross-entropy attempts to maximize the log-likelihood given to the correct labels."
   ]
  },
  {
   "cell_type": "code",
   "execution_count": 18,
   "metadata": {},
   "outputs": [],
   "source": [
    "def cross_entropy(yhat, y):\n",
    "    return -nd.sum(y * nd.log(yhat + 1e-6))"
   ]
  },
  {
   "cell_type": "markdown",
   "metadata": {},
   "source": [
    "### Optimizer:"
   ]
  },
  {
   "cell_type": "code",
   "execution_count": 19,
   "metadata": {},
   "outputs": [],
   "source": [
    "#We'll be using the stochastic gradient descent optimizer\n",
    "def SGD(params, lr):\n",
    "    for param in params:\n",
    "        param[:] = param - lr*param.grad"
   ]
  },
  {
   "cell_type": "markdown",
   "metadata": {},
   "source": [
    "### Evaluation loop to calculate accuracy:\n",
    "\n",
    "Generally we define accuracy as the number of correct answers divided by the total number of questions.\n",
    "Lets write an evaluation loop that will take a data iterator and a network, returning a model's accuracy averaged over the\n",
    "entire dataset."
   ]
  },
  {
   "cell_type": "code",
   "execution_count": 20,
   "metadata": {},
   "outputs": [],
   "source": [
    "def evaluate_accuracy(data_iterator, net):\n",
    "    numerator = 0\n",
    "    denominator = 0\n",
    "    for i, (data, label) in enumerate(data_iterator):\n",
    "        data = data.as_in_context(model_ctx).reshape((-1, 784))\n",
    "        label = label.as_in_context(model_ctx)\n",
    "        label_one_hot = nd.one_hot(label, 10)\n",
    "        output = net(data)\n",
    "        predictions = nd.argmax(output, axis = 1)\n",
    "        numerator += nd.sum( predictions == label)\n",
    "        denominator += data.shape[0]\n",
    "    return (numerator / denominator).asscalar()"
   ]
  },
  {
   "cell_type": "code",
   "execution_count": 21,
   "metadata": {},
   "outputs": [
    {
     "data": {
      "text/plain": [
       "0.1167"
      ]
     },
     "execution_count": 21,
     "metadata": {},
     "output_type": "execute_result"
    }
   ],
   "source": [
    "#Because we initialized our model randomly and roughly 1/10th of all examples belong to each of the 10 classes we should\n",
    "#have an accuracy close to 0.10\n",
    "evaluate_accuracy(test_data, net)"
   ]
  },
  {
   "cell_type": "markdown",
   "metadata": {},
   "source": [
    "### Training loop:"
   ]
  },
  {
   "cell_type": "code",
   "execution_count": 22,
   "metadata": {},
   "outputs": [
    {
     "name": "stdout",
     "output_type": "stream",
     "text": [
      "Epoch 0. Loss 1.377373925558726, Train_acc 0.85815, Test_acc 0.8643\n",
      "Epoch 1. Loss 0.6138278275171916, Train_acc 0.88275, Test_acc 0.8819\n",
      "Epoch 2. Loss 0.518171291565895, Train_acc 0.89005, Test_acc 0.8865\n",
      "Epoch 3. Loss 0.46832715154886245, Train_acc 0.8976, Test_acc 0.8931\n",
      "Epoch 4. Loss 0.43529989680051806, Train_acc 0.9023833, Test_acc 0.9\n"
     ]
    }
   ],
   "source": [
    "epochs = 5\n",
    "learning_rate = 0.005\n",
    "\n",
    "for e in range(epochs):\n",
    "    cumulative_loss = 0\n",
    "    for i, (data, label) in enumerate(train_data):\n",
    "        data = data.as_in_context(model_ctx).reshape(-1,784)\n",
    "        label = label.as_in_context(model_ctx)\n",
    "        label_one_hot = nd.one_hot(label, 10)\n",
    "        with autograd.record():\n",
    "            output = net(data)\n",
    "            loss = cross_entropy(output, label_one_hot)\n",
    "        loss.backward()\n",
    "        SGD(params, learning_rate)\n",
    "        cumulative_loss += nd.sum(loss).asscalar()\n",
    "        \n",
    "    test_accuracy = evaluate_accuracy(test_data, net)\n",
    "    train_accuracy = evaluate_accuracy(train_data, net)\n",
    "    print(\"Epoch %s. Loss %s, Train_acc %s, Test_acc %s\" % (e, cumulative_loss/num_examples, train_accuracy, test_accuracy))"
   ]
  },
  {
   "cell_type": "markdown",
   "metadata": {},
   "source": [
    "### Using the model for prediction:"
   ]
  },
  {
   "cell_type": "code",
   "execution_count": 23,
   "metadata": {},
   "outputs": [
    {
     "name": "stdout",
     "output_type": "stream",
     "text": [
      "(10, 28, 28, 1)\n",
      "(10, 28, 28, 1)\n"
     ]
    },
    {
     "data": {
      "image/png": "[encoded data removed]",
      "text/plain": [
       "<Figure size 432x288 with 1 Axes>"
      ]
     },
     "metadata": {
      "needs_background": "light"
     },
     "output_type": "display_data"
    },
    {
     "name": "stdout",
     "output_type": "stream",
     "text": [
      "model predictions are: \n",
      "[2. 0. 1. 7. 6. 1. 6. 8. 6. 1.]\n",
      "<NDArray 10 @cpu(0)>\n"
     ]
    }
   ],
   "source": [
    "#We'll pick 10 random data points from the test dataset and use the trained model for predictions\n",
    "#Define the function to do prediction\n",
    "def model_predict(net, data):\n",
    "    output = net(data)\n",
    "    return nd.argmax(output, axis = 1)\n",
    "\n",
    "#sampling 10 data points from the test set\n",
    "sample_data = mx.gluon.data.DataLoader(mnist_test, 10, shuffle = 1)\n",
    "\n",
    "for i, (data, label) in enumerate(sample_data):\n",
    "    data = data.as_in_context(model_ctx)\n",
    "    print(data.shape)\n",
    "    im = nd.transpose(data, (1,0,2,3))\n",
    "    print(data.shape)\n",
    "    im = nd.reshape(im, (28, 10*28, 1))\n",
    "    imtiles = nd.tile(im, (1,1,3))\n",
    "    \n",
    "    plt.imshow(imtiles.asnumpy())\n",
    "    plt.show()\n",
    "    pred = model_predict(net, data.reshape((-1, 784)))\n",
    "    print('model predictions are:', pred)\n",
    "    break"
   ]
  },
  {
   "cell_type": "markdown",
   "metadata": {},
   "source": [
    "### Conclusion:\n",
    "\n",
    "We can get 90% accuracy at this task just by training a linear model for a few seconds!"
   ]
  }
 ],
 "metadata": {
  "kernelspec": {
   "display_name": "Python 3",
   "language": "python",
   "name": "python3"
  },
  "language_info": {
   "codemirror_mode": {
    "name": "ipython",
    "version": 3
   },
   "file_extension": ".py",
   "mimetype": "text/x-python",
   "name": "python",
   "nbconvert_exporter": "python",
   "pygments_lexer": "ipython3",
   "version": "3.7.5"
  }
 },
 "nbformat": 4,
 "nbformat_minor": 4
}

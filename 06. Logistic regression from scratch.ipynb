{
 "cells": [
  {
   "cell_type": "markdown",
   "metadata": {},
   "source": [
    "# Logistic Regression:"
   ]
  },
  {
   "cell_type": "markdown",
   "metadata": {},
   "source": [
    "In the previous code we implemented linear regression. is the hammer we reach for when we want to answer how much? or how many? questions. If we want to predict the number of dollars (the price) at which a house will be sold, or the number of wins a baseball team might have, or the number of days that a patient will remain hospitalized before being discharged, then we're probably looking for a regression model.\n",
    "\n",
    "However, in industry, we are more often interested in making categorical assignments. Does this email belong to the spam folder? How likely is this customer to sign up for subscription service? When we're interested in either assigning datapoints to categories or assessing the probability that a category applies, we call this task classification.\n",
    "\n",
    "The simplest kind of classification problem is the binary classification, when there are only two categories, so let's start here. Let's call our two categories the positive class $y_i = 1$ and the negative class $y_i = 0$. Even with just two categories, and even confining ourselves to linear models. Even with just 2 categories, and even confining ourselves to linear models, there are many ways we might approach the problem. For example, we might try to draw a line that best separates the points.\n",
    "\n",
    "A whole family of algorithms called support vector machines pursue this approach. The main idea here is choose a line that maximizes the margin to the closest data points on either side of the decision boundary (the support vectors) actually influence the choice of the line separator.\n",
    "\n",
    "With neural networks, we actually approach the problem differently. Instead of just trying to separate the points, we train a probabilistic classifier which estimates, for each data point, the conditional probability that it belongs to the positive class.\n",
    "\n",
    "Recall that in linear regression, we made predictions of the form:\n",
    "        $$\\bar y = x\\cdot w + b$$\n",
    "        \n",
    "We are interested in asking the question \"what is the probability that example 'x' belongs to the positive class?\" A regular linear model is a poor choice here because it can output values greater than 1 and less than  0. To coerce reasonable answers from our model, we are going to modify it slightly, by running the linear function through sigmoid activation function:\n",
    "        $$\\bar y = \\sigma (w^T \\cdot x + b),$$\n",
    "&emsp;&emsp;&emsp;&emsp;&emsp;&emsp;&emsp;&emsp;&emsp;&emsp;&emsp;&emsp;&emsp;&emsp;&emsp;&emsp;&emsp;&emsp;&emsp;&emsp;&emsp;&emsp;&emsp;where $w^T$ is the transpose of weight matrix\n",
    "        \n",
    "The sigmoid function, sometimes called a squashing function or a logistic function - thus the name logistic regression - maps a real-valued input to the range 0 to 1. Specifically, it has the functional form:\n",
    "        $$\\sigma (z) = \\frac{1}{1+e^{-z}}$$"
   ]
  },
  {
   "cell_type": "code",
   "execution_count": 2,
   "metadata": {},
   "outputs": [],
   "source": [
    "#lets import the relevant libraries\n",
    "import numpy as np\n",
    "import matplotlib.pyplot as plt\n",
    "%matplotlib inline"
   ]
  },
  {
   "cell_type": "code",
   "execution_count": 3,
   "metadata": {},
   "outputs": [],
   "source": [
    "#defining a function to draw the regression line to see how well the model classifies our data\n",
    "def draw(x1, x2):\n",
    "    line = plt.plot(x1, x2, color = 'g')"
   ]
  },
  {
   "cell_type": "code",
   "execution_count": 4,
   "metadata": {},
   "outputs": [],
   "source": [
    "#defining the sigmoid function\n",
    "def sigmoid(score):\n",
    "    return 1/(1+np.exp(-score))"
   ]
  },
  {
   "cell_type": "code",
   "execution_count": 5,
   "metadata": {},
   "outputs": [
    {
     "data": {
      "image/png": "[encoded data removed]",
      "text/plain": [
       "<Figure size 432x288 with 1 Axes>"
      ]
     },
     "metadata": {
      "needs_background": "light"
     },
     "output_type": "display_data"
    }
   ],
   "source": [
    "#plotting the sigmoid function\n",
    "x = np.arange(-5, 5, 0.1)\n",
    "p = sigmoid(x)\n",
    "\n",
    "plt.plot(x, p)\n",
    "plt.plot([-5, 5], [0.5, 0.5])\n",
    "plt.show()"
   ]
  },
  {
   "cell_type": "markdown",
   "metadata": {},
   "source": [
    "As can be seen from the plot, that sigmoid outputs a value between 0 and 1, it is more reasonable to think of it as a probability. Note that the input of 0 gives a value of 0.5. So in common case, where we want to predict positive whenever the probability is greater than 0.5 and negative whenever the probability is less than 0.5, we can just look at the sign of $(w^T \\cdot x + b)$."
   ]
  },
  {
   "cell_type": "markdown",
   "metadata": {},
   "source": [
    "### Binary Cross Entropy Loss:"
   ]
  },
  {
   "cell_type": "markdown",
   "metadata": {},
   "source": [
    "Now that we have a model which outputs probabilities, we need to choose a loss function. When we wanted to predict how much, we used sqaured error $(\\bar y - y)^2$, as the measure of our model's performance.\n",
    "\n",
    "Since now we are thinking about outputting probabilities, one natural objective is to say that we should choose the weights that give the actual labels in the training data the highest probability.\n",
    "        $$\n",
    "        \\max_{\\theta}(P_{\\theta}((y_1,\\dots, y_n)|x_1,\\dots, x_n))\n",
    "        $$\n",
    "\n",
    "Because each example is independent of the others, and each label depends only on the features of the corresponding examples, we can rewrite the above as:\n",
    "        $$\n",
    "        \\max_{\\theta} P_{\\theta}(y_1|x_1)P_{\\theta}(y_2|x_2) \\dots P_{\\theta}(y_n|x_n)\n",
    "        $$\n",
    "        \n",
    "This function is a product over the examples, but in general, because we want to train by stochastic gradient descent, it's a lot easier to work with a loss function that breaks down as a sum over the training examples:\n",
    "        $$\n",
    "        \\max_{\\theta} \\log P_{\\theta}(y_1|x_1) + \\dots + \\log P_{\\theta}(y_n|x_n)\n",
    "        $$\n",
    "        \n",
    "Because we typically represent our objective as a loss we can just flip sign, giving us the negative log probability:\n",
    "        $$\n",
    "        \\min_{\\theta}(- \\sum_{i=1}^n (\\log P_{\\theta}(y_i|x_i)))\n",
    "        $$\n",
    "        \n",
    "If we interpret $\\bar y_i$ as the probability that the i-th example belongs to the positive class (i.e. $y_i = 1$), then\n",
    "$1 - \\bar y_i$ is the probabiltiy that the i-th example belongs to the negative class (i.e. $y_i = 0$). This is equivalent to saying:<br>\n",
    "        $$P_{\\theta}(y_i|x_i) = \n",
    "                                \\begin{cases}\n",
    "                                    \\bar y_i & \\mbox{if } y_i = 1 \\\\\n",
    "                                    (1 - \\bar y_i) & \\mbox{if } y_i = 0\n",
    "                                \\end{cases}\n",
    "                                $$\n",
    "\n",
    "Another way of writing this in a more compact form:\n",
    "        $$P_{\\theta}(y_i|x_i) = \\bar y_i^{y_i} (1 - \\bar y_i)^{(1-y_i)}$$\n",
    "        \n",
    "Thus we can express our loss function as:\n",
    "        $$l(y, \\bar y_i) = - \\sum_{i=1}^n(y_i \\log \\bar y_i + (1-y_i) \\log (1- \\bar y_i))$$\n",
    "        \n",
    "This might have been too much information too quickly. Let's take a look at this loss function and break down what's going on more slowly. The loss function consists of two terms, $y_i \\log \\bar y_i$ and $(1-y_i) \\log (1- \\bar y_i)$. Now, $y_i$ can only take values 0 or 1. When $y_i$ is 1 then the function is equivalent to $\\log \\bar y_i$, and if $y_i$ is greater than 0.5 and close to 1 then the logarithm value will be low. However, when $\\bar y_i$ is close to 0 and $y_i$ is 1, then the logarithmic value will be high. We can have a similar analogy for the second term. When $y_i$ is 0 and $\\bar y_i$ is also 0, then the value of the logarithmic term, $\\log (1 - \\bar y_i)$ will be close to 0. On the other hand, when $y_i$ is 0 and $ \\bar y_i$ is 1 then the value of the logarithmic term is high.\n",
    "\n",
    "This will become more evident when we look at the graph of the cross-entropy loss function."
   ]
  },
  {
   "cell_type": "code",
   "execution_count": 6,
   "metadata": {},
   "outputs": [
    {
     "name": "stderr",
     "output_type": "stream",
     "text": [
      "/usr/local/lib/python3.7/site-packages/ipykernel_launcher.py:6: RuntimeWarning: divide by zero encountered in log\n",
      "  \n"
     ]
    },
    {
     "data": {
      "text/plain": [
       "[<matplotlib.lines.Line2D at 0x1135e1f90>]"
      ]
     },
     "execution_count": 6,
     "metadata": {},
     "output_type": "execute_result"
    },
    {
     "data": {
      "image/png": "[encoded data removed]",
      "text/plain": [
       "<Figure size 720x360 with 2 Axes>"
      ]
     },
     "metadata": {
      "needs_background": "light"
     },
     "output_type": "display_data"
    }
   ],
   "source": [
    "#defining the cross-entropy function when y=1\n",
    "points = np.arange(0, 1, 0.02)\n",
    "\n",
    "fig, (ax1, ax2) = plt.subplots(1,2, figsize = (10,5))\n",
    "ax1.set_title('Cross entropy loss for y = 1')\n",
    "ax1.plot(points, -np.log(points))\n",
    "ax2.set_title('Cross entropy loss for y = 0')\n",
    "ax2.plot(points, -np.log(1-points))"
   ]
  },
  {
   "cell_type": "markdown",
   "metadata": {},
   "source": [
    "The key thing to note is that the cost function penalizes confident and wrong predictions more than it rewards confident\n",
    "and right predictions. The corollary is increasing prediction accuracy (closer to 0 or 1) has deminishing returns on reducing\n",
    "cost due to the logistic nature of our cost function."
   ]
  },
  {
   "cell_type": "code",
   "execution_count": 135,
   "metadata": {},
   "outputs": [],
   "source": [
    "'''\n",
    "Defining the function to calculate the loss of the output during the training process\n",
    "points: set of randomly generated data points with shape (200, 3), which will be generated further\n",
    "line_parameters: matrix containing weights and bias values with shape (3,1)\n",
    "y: actual data labels which the model has to predict correctly with shape (100, 1)\n",
    "'''\n",
    "\n",
    "def calculate_error(line_parameters, points, y):\n",
    "    m = points.shape[0]\n",
    "    p = sigmoid(np.dot(points, line_parameters))\n",
    "    cross_entropy = -1/m*(np.log(p).T@y + np.log(1-p).T@(1-y))\n",
    "    return cross_entropy"
   ]
  },
  {
   "cell_type": "markdown",
   "metadata": {},
   "source": [
    "## Gradient Descent:"
   ]
  },
  {
   "cell_type": "markdown",
   "metadata": {},
   "source": [
    "To minimize the cost, we use Gradient Descent, just like before in linear regression. We won't be using stochastic gradient descent as the the dataset that we will be generating will contain 200 points only. Again, we will be training the model using two approahes:\n",
    "1. We will be coding gradient descent for logistic regression from scratch.\n",
    "2. We will be using MXNet's built in utility function autograd() so we don't have to worry about the partial derivatives."
   ]
  },
  {
   "cell_type": "markdown",
   "metadata": {},
   "source": [
    "#### 1. Gradient descent from scratch:"
   ]
  },
  {
   "cell_type": "markdown",
   "metadata": {},
   "source": [
    "As we know we will be calculating $\\sigma (x \\cdot w + b)$, we will introduce an intermediary term:\n",
    "        $$z = wx+b$$\n",
    "\n",
    "Also we will denote sigmoid of $z$ by $S(z)$.\n",
    "So the cost function can be written as:\n",
    "        $$l = \\frac{-1}{m}(y \\log S(z) + (1-y)\\log (1 - S(z)))$$\n",
    "\n",
    "Now lets calculate the partial derivates -\n",
    "$$\n",
    "S(z) = \\frac{1}{1 + e^{-z}}\n",
    "$$\n"
   ]
  },
  {
   "cell_type": "markdown",
   "metadata": {},
   "source": [
    "$$\n",
    "    \\implies \\frac{\\partial {S(z)}}{\\partial z} = \\frac{-(-e^{-z})}{(1+e^{-z})^2}\n",
    "$$\n",
    "\n",
    "\n",
    "$$\n",
    "    \\implies \\frac{\\partial {S(z)}}{\\partial z} = \\frac {1}{1+e^{-z}} \\times (1 - \\frac {1}{1+e^{-z}})\n",
    "$$"
   ]
  },
  {
   "cell_type": "markdown",
   "metadata": {},
   "source": [
    "$$\n",
    "\\implies S'(z) = S(z)(1-S(z)) \\;\\;\\;\\;\\;\\;\\;\\;\\;\\dots (eqn \\;1)\n",
    "$$"
   ]
  },
  {
   "cell_type": "markdown",
   "metadata": {},
   "source": [
    "Now,\n",
    "$$\n",
    "\\frac {\\partial l}{\\partial w} = \\frac{\\partial l}{\\partial z} \\times \\frac{\\partial z}{\\partial w}\n",
    "$$\n",
    "\n",
    "$$\n",
    "\\implies \\frac {\\partial l}{\\partial w}= - \\frac{1}{m}(\\frac{y}{S(z)}S'(z) + \\frac{(1-y)}{(1-S(z))}S'(z)) \\times x\n",
    "$$\n",
    "\n",
    "Substituting the value of $S'(z)$ from eqn 1, we get:\n",
    "$$\n",
    "\\frac {\\partial l}{\\partial w} = -\\frac{1}{m}(y(1-S(z)) + (1-y)S(z)) \\times x\n",
    "$$\n",
    "\n",
    "$$\n",
    "\\implies \\frac {\\partial l}{\\partial w} = -\\frac{1}{m}(y - S(z)) \\times x\n",
    "$$"
   ]
  },
  {
   "cell_type": "code",
   "execution_count": 136,
   "metadata": {},
   "outputs": [],
   "source": [
    "'''\n",
    "code for gradient descent\n",
    "line_parameters: matrix containing shapes and bias values with shape (3, 1)\n",
    "points: set of randomly generated data points with shape (200, 3), which will be generated further\n",
    "y: actual data labels which the model has to predict correctly with shape (100, 1)\n",
    "'''\n",
    "def gradient_descent(line_parameters, points, y, lr):\n",
    "    m = points.shape[0]\n",
    "    losses = []\n",
    "    for i in range(2000):\n",
    "        p = sigmoid(points@line_parameters)\n",
    "        gradient = (lr/m)*(points.T @ (p - y))\n",
    "        loss = calculate_error(line_parameters, all_points, y)\n",
    "        line_parameters[:] = line_parameters - gradient\n",
    "        losses.append(list(loss.reshape(1)))\n",
    "        if (i+1)%200 == 0:\n",
    "            print(\"Epoch: %s Loss: %s\"%(i+1, loss))\n",
    "    return losses"
   ]
  },
  {
   "cell_type": "code",
   "execution_count": 137,
   "metadata": {},
   "outputs": [],
   "source": [
    "#generating the dataset\n",
    "n_pts = 100\n",
    "\n",
    "#setting the seed \n",
    "np.random.seed(0)\n",
    "bias = np.ones(n_pts)\n",
    "\n",
    "#we will be adding the column of ones for bias multiplication\n",
    "top_region = np.array([np.random.normal(10, 2, n_pts), np.random.normal(12, 2, n_pts), bias]).T\n",
    "bottom_region = np.array([np.random.normal(5, 2, n_pts), np.random.normal(6, 2, n_pts), bias]).T\n",
    "\n",
    "all_points = np.vstack((top_region, bottom_region))"
   ]
  },
  {
   "cell_type": "code",
   "execution_count": 138,
   "metadata": {},
   "outputs": [],
   "source": [
    "#declaring the labels\n",
    "y = np.array([np.zeros(n_pts), np.ones(n_pts)]).reshape(n_pts*2, 1)"
   ]
  },
  {
   "cell_type": "code",
   "execution_count": 139,
   "metadata": {},
   "outputs": [],
   "source": [
    "#declaring the line_parameters, basically matrix containing the weigts and biases\n",
    "line_parameters = np.array([np.zeros(3)]).T"
   ]
  },
  {
   "cell_type": "code",
   "execution_count": 140,
   "metadata": {},
   "outputs": [
    {
     "name": "stdout",
     "output_type": "stream",
     "text": [
      "Epoch: 200 Loss: [[0.43057055]]\n",
      "Epoch: 400 Loss: [[0.32818699]]\n",
      "Epoch: 600 Loss: [[0.26959591]]\n",
      "Epoch: 800 Loss: [[0.23204184]]\n",
      "Epoch: 1000 Loss: [[0.20593157]]\n",
      "Epoch: 1200 Loss: [[0.18668369]]\n",
      "Epoch: 1400 Loss: [[0.17186614]]\n",
      "Epoch: 1600 Loss: [[0.16007542]]\n",
      "Epoch: 1800 Loss: [[0.15044651]]\n",
      "Epoch: 2000 Loss: [[0.14241747]]\n"
     ]
    }
   ],
   "source": [
    "#training the model: the function returns a list of losses and the line parameters\n",
    "losses = gradient_descent(line_parameters, all_points, y , 0.06)"
   ]
  },
  {
   "cell_type": "code",
   "execution_count": 141,
   "metadata": {},
   "outputs": [
    {
     "data": {
      "text/plain": [
       "Text(0, 0.5, 'Loss')"
      ]
     },
     "execution_count": 141,
     "metadata": {},
     "output_type": "execute_result"
    },
    {
     "data": {
      "image/png": "[encoded data removed]",
      "text/plain": [
       "<Figure size 432x288 with 1 Axes>"
      ]
     },
     "metadata": {
      "needs_background": "light"
     },
     "output_type": "display_data"
    }
   ],
   "source": [
    "#plotting the loss\n",
    "plt.figure()\n",
    "plt.plot(losses)\n",
    "plt.grid(True, which=\"both\")\n",
    "plt.xlabel('Epochs')\n",
    "plt.ylabel('Loss')"
   ]
  },
  {
   "cell_type": "code",
   "execution_count": 142,
   "metadata": {},
   "outputs": [
    {
     "data": {
      "image/png": "[encoded data removed]",
      "text/plain": [
       "<Figure size 288x288 with 1 Axes>"
      ]
     },
     "metadata": {
      "needs_background": "light"
     },
     "output_type": "display_data"
    }
   ],
   "source": [
    "#getting the weights from the line_parameter matrix\n",
    "w1 = line_parameters.item(0)\n",
    "w2 = line_parameters.item(1)\n",
    "b = line_parameters.item(2)\n",
    "\n",
    "#defining points to draw the line\n",
    "x1 = np.array([bottom_region[:,0].min(), top_region[:,0].max()])\n",
    "#since, w1x1 + w2x2 + b = 0, hence we can calculate x2 from here\n",
    "x2 = -b/w2 + (x1*(-w1/w2))\n",
    "\n",
    "#plotting the regression line for points\n",
    "_, ax = plt.subplots(figsize = (4, 4))\n",
    "ax.scatter(top_region[:,0], top_region[:,1], color = 'r')\n",
    "ax.scatter(bottom_region[:,0], bottom_region[:,1], color = 'b')\n",
    "draw(x1, x2)\n",
    "plt.show()"
   ]
  },
  {
   "cell_type": "markdown",
   "metadata": {},
   "source": [
    "#### 2. Gradient Descent using MXNet utility autograd():"
   ]
  },
  {
   "cell_type": "code",
   "execution_count": 143,
   "metadata": {},
   "outputs": [],
   "source": [
    "#we'll start by importing the required MXNet libraries\n",
    "import mxnet as mx\n",
    "from mxnet import nd, autograd"
   ]
  },
  {
   "cell_type": "code",
   "execution_count": 144,
   "metadata": {},
   "outputs": [],
   "source": [
    "#Now we'll be redeclaring the line parameters as they have already been trained.\n",
    "#However, this time we will be using MXNet's nd array instead of np arrays.\n",
    "line_parameters = nd.zeros((3, 1))"
   ]
  },
  {
   "cell_type": "code",
   "execution_count": 145,
   "metadata": {},
   "outputs": [],
   "source": [
    "#declaring a placeholder to hold the gradient\n",
    "line_parameters.attach_grad()"
   ]
  },
  {
   "cell_type": "code",
   "execution_count": 146,
   "metadata": {},
   "outputs": [],
   "source": [
    "#tweaking the sigmoid function for MXNet library\n",
    "def sigmoid(score):\n",
    "    return 1/(1+nd.exp(-score))"
   ]
  },
  {
   "cell_type": "code",
   "execution_count": 147,
   "metadata": {},
   "outputs": [],
   "source": [
    "#tweaking the cost function for MXNet library\n",
    "def calculate_error(line_parameters, points, y):\n",
    "    m = points.shape[0]\n",
    "    p = sigmoid(mx.nd.dot(points, line_parameters))\n",
    "    cross_entropy = -1/m*(mx.nd.dot(nd.log(p).T,y) + mx.nd.dot(nd.log(1-p).T,(1-y)))\n",
    "    return cross_entropy"
   ]
  },
  {
   "cell_type": "code",
   "execution_count": 148,
   "metadata": {},
   "outputs": [
    {
     "name": "stdout",
     "output_type": "stream",
     "text": [
      "e:200, loss:0.43057054\n",
      "e:400, loss:0.32818693\n",
      "e:600, loss:0.26959586\n",
      "e:800, loss:0.23204184\n",
      "e:1000, loss:0.20593162\n",
      "e:1200, loss:0.18668368\n",
      "e:1400, loss:0.17186613\n",
      "e:1600, loss:0.16007546\n",
      "e:1800, loss:0.15044652\n",
      "e:2000, loss:0.14241746\n"
     ]
    }
   ],
   "source": [
    "#exectuting the training loop\n",
    "epochs = 2000\n",
    "learning_rate = 0.06\n",
    "losses = []\n",
    "\n",
    "for e in range(epochs):\n",
    "    loss = 0\n",
    "    with autograd.record():\n",
    "        loss = calculate_error(line_parameters, nd.array(all_points), nd.array(y))\n",
    "    loss.backward()\n",
    "    line_parameters -= learning_rate * line_parameters.grad\n",
    "    losses.append(loss[0].asscalar())\n",
    "    if (e+1)%200 == 0:\n",
    "        print(\"e:%s, loss:%s\"%(e+1, loss[0].asscalar()))"
   ]
  },
  {
   "cell_type": "code",
   "execution_count": 149,
   "metadata": {},
   "outputs": [
    {
     "data": {
      "text/plain": [
       "Text(0, 0.5, 'Loss')"
      ]
     },
     "execution_count": 149,
     "metadata": {},
     "output_type": "execute_result"
    },
    {
     "data": {
      "image/png": "[encoded data removed]",
      "text/plain": [
       "<Figure size 432x288 with 1 Axes>"
      ]
     },
     "metadata": {
      "needs_background": "light"
     },
     "output_type": "display_data"
    }
   ],
   "source": [
    "#plotting the loss\n",
    "plt.figure()\n",
    "plt.plot(losses)\n",
    "plt.grid(True, which=\"both\")\n",
    "plt.xlabel('Epochs')\n",
    "plt.ylabel('Loss')"
   ]
  },
  {
   "cell_type": "code",
   "execution_count": 150,
   "metadata": {},
   "outputs": [
    {
     "data": {
      "image/png": "[encoded data removed]",
      "text/plain": [
       "<Figure size 288x288 with 1 Axes>"
      ]
     },
     "metadata": {
      "needs_background": "light"
     },
     "output_type": "display_data"
    }
   ],
   "source": [
    "#getting the weights from the line_parameter matrix\n",
    "w1 = line_parameters[0].asscalar()\n",
    "w2 = line_parameters[1].asscalar()\n",
    "b = line_parameters[2].asscalar()\n",
    "\n",
    "#defining points to draw the line\n",
    "x1 = nd.array([bottom_region[:,0].min(), top_region[:,0].max()])\n",
    "#since, w1x1 + w2x2 + b = 0, hence we can calculate x2 from here\n",
    "x2 = -b/w2 + (x1*(-w1/w2))\n",
    "\n",
    "#plotting the regression line for points\n",
    "_, ax = plt.subplots(figsize = (4, 4))\n",
    "ax.scatter(top_region[:,0], top_region[:,1], color = 'r')\n",
    "ax.scatter(bottom_region[:,0], bottom_region[:,1], color = 'b')\n",
    "draw(x1.asnumpy(), x2.asnumpy())\n",
    "plt.show()"
   ]
  }
 ],
 "metadata": {
  "kernelspec": {
   "display_name": "Python 3",
   "language": "python",
   "name": "python3"
  },
  "language_info": {
   "codemirror_mode": {
    "name": "ipython",
    "version": 3
   },
   "file_extension": ".py",
   "mimetype": "text/x-python",
   "name": "python",
   "nbconvert_exporter": "python",
   "pygments_lexer": "ipython3",
   "version": "3.7.5"
  }
 },
 "nbformat": 4,
 "nbformat_minor": 4
}
